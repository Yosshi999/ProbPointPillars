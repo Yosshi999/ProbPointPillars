{
 "cells": [
  {
   "cell_type": "code",
   "execution_count": 1,
   "metadata": {
    "execution": {
     "iopub.execute_input": "2021-10-24T09:17:14.461653Z",
     "iopub.status.busy": "2021-10-24T09:17:14.461317Z",
     "iopub.status.idle": "2021-10-24T09:17:14.751170Z",
     "shell.execute_reply": "2021-10-24T09:17:14.752504Z"
    }
   },
   "outputs": [
    {
     "name": "stdout",
     "output_type": "stream",
     "text": [
      "/home/yoshio/git/second.pytorch\n",
      "/home/yoshio/git/second.pytorch\r\n"
     ]
    }
   ],
   "source": [
    "%cd ../\n",
    "!pwd"
   ]
  },
  {
   "cell_type": "code",
   "execution_count": 2,
   "metadata": {
    "execution": {
     "iopub.execute_input": "2021-10-24T09:17:14.761883Z",
     "iopub.status.busy": "2021-10-24T09:17:14.761588Z",
     "iopub.status.idle": "2021-10-24T09:17:15.487071Z",
     "shell.execute_reply": "2021-10-24T09:17:15.487310Z"
    }
   },
   "outputs": [],
   "source": [
    "import os\n",
    "import pickle\n",
    "from pathlib import Path\n",
    "import re\n",
    "from functools import partial\n",
    "import json\n",
    "\n",
    "import numpy as np\n",
    "from scipy.special import logit, expit\n",
    "from sklearn.model_selection import KFold\n",
    "from sklearn.metrics import brier_score_loss, precision_score\n",
    "from sklearn.calibration import calibration_curve\n",
    "from sklearn.linear_model import LogisticRegression\n",
    "from sklearn.isotonic import IsotonicRegression\n",
    "import matplotlib.pyplot as plt\n",
    "from tqdm.notebook import tqdm\n",
    "import pandas as pd\n",
    "import torch"
   ]
  },
  {
   "cell_type": "code",
   "execution_count": 3,
   "metadata": {
    "execution": {
     "iopub.execute_input": "2021-10-24T09:17:15.490644Z",
     "iopub.status.busy": "2021-10-24T09:17:15.490345Z",
     "iopub.status.idle": "2021-10-24T09:17:15.492117Z",
     "shell.execute_reply": "2021-10-24T09:17:15.491827Z"
    }
   },
   "outputs": [],
   "source": [
    "def expected_calibration_error(y_true, y_prob, n_bins):\n",
    "    bins = np.linspace(0., 1., n_bins + 1, endpoint=True)\n",
    "    binids = np.digitize(y_prob, bins) - 1\n",
    "    bin_sums = np.bincount(binids, weights=y_prob, minlength=len(bins))\n",
    "    bin_true = np.bincount(binids, weights=y_true, minlength=len(bins))\n",
    "    bin_total = np.bincount(binids, minlength=len(bins))\n",
    "\n",
    "    nonzero = bin_total != 0\n",
    "    acc = bin_true[nonzero] / bin_total[nonzero]\n",
    "    conf = bin_sums[nonzero] / bin_total[nonzero]\n",
    "    return np.sum(np.abs(acc - conf) * bin_total[nonzero]) / bin_total.sum()"
   ]
  },
  {
   "cell_type": "code",
   "execution_count": 4,
   "metadata": {
    "execution": {
     "iopub.execute_input": "2021-10-24T09:17:15.495060Z",
     "iopub.status.busy": "2021-10-24T09:17:15.494765Z",
     "iopub.status.idle": "2021-10-24T09:17:15.497101Z",
     "shell.execute_reply": "2021-10-24T09:17:15.496857Z"
    }
   },
   "outputs": [
    {
     "name": "stdout",
     "output_type": "stream",
     "text": [
      "/hdd/kitti/kitti_infos_val.pkl pointpillars/car/xyres_16-onecycle.config pointpillars-car-16-onecycle\n",
      "latest step: 92800\n"
     ]
    }
   ],
   "source": [
    "KITTI_INFO = Path(os.environ.get(\"KITTI_INFO\", \"/hdd/kitti/kitti_infos_val.pkl\"))\n",
    "CONF = os.environ.get(\"CONF\", \"pointpillars/car/xyres_16-onecycle.config\")\n",
    "MODEL = os.environ.get(\"MODEL\", \"pointpillars-car-16-onecycle\")\n",
    "print(KITTI_INFO, CONF, MODEL)\n",
    "\n",
    "MODEL_DIR = Path(f\"./model/{MODEL}\")\n",
    "checkpoint_json = json.loads((MODEL_DIR / \"checkpoints.json\").read_text())\n",
    "GSTEP = int(re.search(r\"voxelnet-(\\d+)\\.tckpt\", checkpoint_json[\"latest_ckpt\"][\"voxelnet\"]).group(1))\n",
    "print(\"latest step:\", GSTEP)\n",
    "\n",
    "DATA = Path(f\"./model/{MODEL}/eval_results/step_{GSTEP}/result_kitti.pkl\")\n",
    "MODEL_WEIGHT = MODEL_DIR / f\"voxelnet-{GSTEP}.tckpt\""
   ]
  },
  {
   "cell_type": "code",
   "execution_count": 5,
   "metadata": {
    "execution": {
     "iopub.execute_input": "2021-10-24T09:17:15.499234Z",
     "iopub.status.busy": "2021-10-24T09:17:15.498947Z",
     "iopub.status.idle": "2021-10-24T09:17:15.662314Z",
     "shell.execute_reply": "2021-10-24T09:17:15.662041Z"
    }
   },
   "outputs": [],
   "source": [
    "with KITTI_INFO.open(\"rb\") as f:\n",
    "    gts = pickle.load(f)\n",
    "\n",
    "with DATA.open(\"rb\") as f:\n",
    "    dets = pickle.load(f)"
   ]
  },
  {
   "cell_type": "markdown",
   "metadata": {},
   "source": [
    "## KITTI Dataset Car difficulty:2 3DIoU@0.70"
   ]
  },
  {
   "cell_type": "code",
   "execution_count": 6,
   "metadata": {
    "execution": {
     "iopub.execute_input": "2021-10-24T09:17:15.665168Z",
     "iopub.status.busy": "2021-10-24T09:17:15.664868Z",
     "iopub.status.idle": "2021-10-24T09:17:15.704238Z",
     "shell.execute_reply": "2021-10-24T09:17:15.703941Z"
    }
   },
   "outputs": [
    {
     "data": {
      "application/vnd.jupyter.widget-view+json": {
       "model_id": "1a64deb3412a4a21bc6ef8153b790abb",
       "version_major": 2,
       "version_minor": 0
      },
      "text/plain": [
       "  0%|          | 0/3769 [00:00<?, ?it/s]"
      ]
     },
     "metadata": {},
     "output_type": "display_data"
    }
   ],
   "source": [
    "y_true_li = []\n",
    "y_pred_li = []\n",
    "\n",
    "for det in tqdm(dets):\n",
    "    result = det[\"official/3d_0.70/2/bin\"]\n",
    "    mask = result != 0 # remove 'ignore' detections\n",
    "    y_true_li.append(np.where(result[mask] == 1, 1, 0))\n",
    "    y_pred_li.append(det[\"score\"][mask])\n",
    "\n",
    "y_true = np.concatenate(y_true_li)\n",
    "y_pred = np.concatenate(y_pred_li)"
   ]
  },
  {
   "cell_type": "code",
   "execution_count": 7,
   "metadata": {
    "execution": {
     "iopub.execute_input": "2021-10-24T09:17:15.715814Z",
     "iopub.status.busy": "2021-10-24T09:17:15.715516Z",
     "iopub.status.idle": "2021-10-24T09:17:15.885781Z",
     "shell.execute_reply": "2021-10-24T09:17:15.885481Z"
    }
   },
   "outputs": [
    {
     "data": {
      "image/png": "[encoded data removed]",
      "text/plain": [
       "<Figure size 720x360 with 2 Axes>"
      ]
     },
     "metadata": {
      "needs_background": "light"
     },
     "output_type": "display_data"
    }
   ],
   "source": [
    "def show_calibration(y_true, y_pred, n_bins=15):\n",
    "    plt.figure(figsize=(10, 5))\n",
    "    plt.suptitle(\"KITTI Dataset Car difficulty:2 3DIoU@0.70\")\n",
    "    plt.subplot(1,2,1)\n",
    "    plt.title(\"Raw predicted value\")\n",
    "    plt.hist(y_pred, range=(0, 1), bins=n_bins)\n",
    "    plt.xlabel(\"Predicted value\")\n",
    "    plt.ylabel(\"Count\")\n",
    "    \n",
    "    plt.subplot(1,2,2)\n",
    "    prob_true, prob_pred = calibration_curve(y_true, y_pred, n_bins=n_bins)\n",
    "    ece = expected_calibration_error(y_true, y_pred, n_bins=n_bins)\n",
    "    plt.title(\"Raw Calibration plots\")\n",
    "    plt.plot(prob_pred, prob_true, \"bs-\", label=\"ECE=%.3f\"%ece)\n",
    "    plt.xlim(-0.05, 1.05)\n",
    "    plt.xlabel(\"Mean predicted value\")\n",
    "    plt.ylabel(\"Fraction of positives\")\n",
    "    plt.legend()\n",
    "    \n",
    "    plt.plot([0,1], [0,1], \"k--\")\n",
    "    plt.show()\n",
    "\n",
    "show_calibration(y_true, y_pred)"
   ]
  },
  {
   "cell_type": "markdown",
   "metadata": {},
   "source": [
    "This is over-confident."
   ]
  },
  {
   "cell_type": "markdown",
   "metadata": {},
   "source": [
    "### Calibration\n",
    "\n",
    "3-fold CVによってProbabilistic Calibrationを施し、Out-of-Foldでの性能を比較する"
   ]
  },
  {
   "cell_type": "code",
   "execution_count": 8,
   "metadata": {
    "execution": {
     "iopub.execute_input": "2021-10-24T09:17:15.895762Z",
     "iopub.status.busy": "2021-10-24T09:17:15.895453Z",
     "iopub.status.idle": "2021-10-24T09:17:16.306962Z",
     "shell.execute_reply": "2021-10-24T09:17:16.307253Z"
    }
   },
   "outputs": [
    {
     "data": {
      "image/png": "[encoded data removed]",
      "text/plain": [
       "<Figure size 432x288 with 1 Axes>"
      ]
     },
     "metadata": {
      "needs_background": "light"
     },
     "output_type": "display_data"
    }
   ],
   "source": [
    "CV = 3\n",
    "\n",
    "models = {\n",
    "    \"platt\": LogisticRegression(random_state=0),\n",
    "    \"temperature\": LogisticRegression(random_state=0, fit_intercept=False),\n",
    "    \"isotonic\": IsotonicRegression(y_min=0, y_max=1, out_of_bounds=\"clip\"),\n",
    "}\n",
    "calibed_pred = {\n",
    "    \"platt\": [],\n",
    "    \"temperature\": [],\n",
    "    \"isotonic\": [],\n",
    "}\n",
    "calibed_true = []\n",
    "\n",
    "kf = KFold(CV, shuffle=False)\n",
    "X = np.array([logit(x) for x in y_pred_li], dtype=object)\n",
    "y = np.array(y_true_li, dtype=object)\n",
    "for train_idx, val_idx in kf.split(X, y):\n",
    "    X_train, X_val = np.concatenate(X[train_idx]).reshape(-1,1), np.concatenate(X[val_idx]).reshape(-1,1)\n",
    "    y_train, y_val = np.concatenate(y[train_idx]), np.concatenate(y[val_idx])\n",
    "    calibed_true.append(y_val)\n",
    "    for key, m in models.items():\n",
    "        if key == \"isotonic\":\n",
    "            inst = m.fit(expit(X_train), y_train)\n",
    "            calibed_pred[key].append(inst.predict(expit(X_val)))\n",
    "        else:\n",
    "            inst = m.fit(X_train, y_train)\n",
    "            calibed_pred[key].append(inst.predict_proba(X_val)[:,1])\n",
    "\n",
    "calibed_true = np.concatenate(calibed_true)\n",
    "calibed_pred = {key: np.concatenate(value) for key, value in calibed_pred.items()}\n",
    "\n",
    "# show\n",
    "plt.title(\"Calibration plots\")\n",
    "prob_true, prob_pred = calibration_curve(y_true, y_pred, n_bins=15)\n",
    "ece = expected_calibration_error(y_true, y_pred, n_bins=15)\n",
    "plt.plot(prob_pred, prob_true, \"s-\", label=\"Raw (ECE=%.3f)\"%ece)\n",
    "\n",
    "for key, value in calibed_pred.items():\n",
    "    prob_true, prob_pred = calibration_curve(calibed_true, value, n_bins=15)\n",
    "    ece = expected_calibration_error(calibed_true, value, n_bins=15)\n",
    "    plt.plot(prob_pred, prob_true, \"s-\", label=\"%s (ECE=%.3f)\"%(key,ece))\n",
    "\n",
    "plt.xlim(-0.05, 1.05)\n",
    "plt.xlabel(\"Mean predicted value\")\n",
    "plt.ylabel(\"Fraction of positives\")\n",
    "plt.legend()\n",
    "\n",
    "plt.plot([0,1], [0,1], \"k--\")\n",
    "plt.show()"
   ]
  },
  {
   "cell_type": "code",
   "execution_count": 9,
   "metadata": {
    "execution": {
     "iopub.execute_input": "2021-10-24T09:17:16.308653Z",
     "iopub.status.busy": "2021-10-24T09:17:16.308348Z",
     "iopub.status.idle": "2021-10-24T09:17:16.474920Z",
     "shell.execute_reply": "2021-10-24T09:17:16.474617Z"
    }
   },
   "outputs": [
    {
     "data": {
      "image/png": "[encoded data removed]",
      "text/plain": [
       "<Figure size 720x360 with 2 Axes>"
      ]
     },
     "metadata": {
      "needs_background": "light"
     },
     "output_type": "display_data"
    }
   ],
   "source": [
    "plt.figure(figsize=(10, 5))\n",
    "plt.subplot(1,2,1)\n",
    "plt.title(\"Platt scaled predicted value\")\n",
    "plt.hist(calibed_pred[\"platt\"], range=(0, 1), bins=15, color=\"orange\")\n",
    "plt.xlabel(\"Predicted value\")\n",
    "plt.ylabel(\"Count\")\n",
    "\n",
    "plt.subplot(1,2,2)\n",
    "plt.title(\"Isotonic regressed predicted value\")\n",
    "plt.hist(calibed_pred[\"isotonic\"], range=(0, 1), bins=15, color=\"red\")\n",
    "plt.xlabel(\"Predicted value\")\n",
    "plt.ylabel(\"Count\")\n",
    "\n",
    "plt.show()"
   ]
  },
  {
   "cell_type": "code",
   "execution_count": 10,
   "metadata": {
    "execution": {
     "iopub.execute_input": "2021-10-24T09:17:16.477400Z",
     "iopub.status.busy": "2021-10-24T09:17:16.477108Z",
     "iopub.status.idle": "2021-10-24T09:17:16.486339Z",
     "shell.execute_reply": "2021-10-24T09:17:16.486604Z"
    }
   },
   "outputs": [
    {
     "data": {
      "text/html": [
       "<div>\n",
       "<style scoped>\n",
       "    .dataframe tbody tr th:only-of-type {\n",
       "        vertical-align: middle;\n",
       "    }\n",
       "\n",
       "    .dataframe tbody tr th {\n",
       "        vertical-align: top;\n",
       "    }\n",
       "\n",
       "    .dataframe thead th {\n",
       "        text-align: right;\n",
       "    }\n",
       "</style>\n",
       "<table border=\"1\" class=\"dataframe\">\n",
       "  <thead>\n",
       "    <tr style=\"text-align: right;\">\n",
       "      <th></th>\n",
       "      <th>ECE</th>\n",
       "    </tr>\n",
       "    <tr>\n",
       "      <th>method</th>\n",
       "      <th></th>\n",
       "    </tr>\n",
       "  </thead>\n",
       "  <tbody>\n",
       "    <tr>\n",
       "      <th>(Raw)</th>\n",
       "      <td>0.093761</td>\n",
       "    </tr>\n",
       "    <tr>\n",
       "      <th>Platt scaling</th>\n",
       "      <td>0.004507</td>\n",
       "    </tr>\n",
       "    <tr>\n",
       "      <th>IsotonicRegression</th>\n",
       "      <td>0.000932</td>\n",
       "    </tr>\n",
       "  </tbody>\n",
       "</table>\n",
       "</div>"
      ],
      "text/plain": [
       "                         ECE\n",
       "method                      \n",
       "(Raw)               0.093761\n",
       "Platt scaling       0.004507\n",
       "IsotonicRegression  0.000932"
      ]
     },
     "execution_count": 1,
     "metadata": {},
     "output_type": "execute_result"
    }
   ],
   "source": [
    "df = pd.DataFrame({\n",
    "    \"method\": [\"(Raw)\", \"Platt scaling\", \"IsotonicRegression\"],\n",
    "    \"ECE\": [expected_calibration_error(y_true, y_pred, 15), expected_calibration_error(calibed_true, calibed_pred[\"platt\"], 15), expected_calibration_error(calibed_true, calibed_pred[\"isotonic\"], 15)],\n",
    "})\n",
    "\n",
    "df.set_index(\"method\")"
   ]
  },
  {
   "cell_type": "markdown",
   "metadata": {},
   "source": [
    "# Build A Calibrated Model"
   ]
  },
  {
   "cell_type": "code",
   "execution_count": 11,
   "metadata": {
    "execution": {
     "iopub.execute_input": "2021-10-24T09:17:17.725082Z",
     "iopub.status.busy": "2021-10-24T09:17:16.520235Z",
     "iopub.status.idle": "2021-10-24T09:17:17.745513Z",
     "shell.execute_reply": "2021-10-24T09:17:17.745211Z"
    }
   },
   "outputs": [
    {
     "data": {
      "text/plain": [
       "odict_keys(['global_step', 'voxel_feature_extractor.pfn_layers.0.linear.weight', 'voxel_feature_extractor.pfn_layers.0.norm.weight', 'voxel_feature_extractor.pfn_layers.0.norm.bias', 'voxel_feature_extractor.pfn_layers.0.norm.running_mean', 'voxel_feature_extractor.pfn_layers.0.norm.running_var', 'voxel_feature_extractor.pfn_layers.0.norm.num_batches_tracked', 'rpn.blocks.0.1.weight', 'rpn.blocks.0.2.weight', 'rpn.blocks.0.2.bias', 'rpn.blocks.0.2.running_mean', 'rpn.blocks.0.2.running_var', 'rpn.blocks.0.2.num_batches_tracked', 'rpn.blocks.0.4.weight', 'rpn.blocks.0.5.weight', 'rpn.blocks.0.5.bias', 'rpn.blocks.0.5.running_mean', 'rpn.blocks.0.5.running_var', 'rpn.blocks.0.5.num_batches_tracked', 'rpn.blocks.0.7.weight', 'rpn.blocks.0.8.weight', 'rpn.blocks.0.8.bias', 'rpn.blocks.0.8.running_mean', 'rpn.blocks.0.8.running_var', 'rpn.blocks.0.8.num_batches_tracked', 'rpn.blocks.0.10.weight', 'rpn.blocks.0.11.weight', 'rpn.blocks.0.11.bias', 'rpn.blocks.0.11.running_mean', 'rpn.blocks.0.11.running_var', 'rpn.blocks.0.11.num_batches_tracked', 'rpn.blocks.1.1.weight', 'rpn.blocks.1.2.weight', 'rpn.blocks.1.2.bias', 'rpn.blocks.1.2.running_mean', 'rpn.blocks.1.2.running_var', 'rpn.blocks.1.2.num_batches_tracked', 'rpn.blocks.1.4.weight', 'rpn.blocks.1.5.weight', 'rpn.blocks.1.5.bias', 'rpn.blocks.1.5.running_mean', 'rpn.blocks.1.5.running_var', 'rpn.blocks.1.5.num_batches_tracked', 'rpn.blocks.1.7.weight', 'rpn.blocks.1.8.weight', 'rpn.blocks.1.8.bias', 'rpn.blocks.1.8.running_mean', 'rpn.blocks.1.8.running_var', 'rpn.blocks.1.8.num_batches_tracked', 'rpn.blocks.1.10.weight', 'rpn.blocks.1.11.weight', 'rpn.blocks.1.11.bias', 'rpn.blocks.1.11.running_mean', 'rpn.blocks.1.11.running_var', 'rpn.blocks.1.11.num_batches_tracked', 'rpn.blocks.1.13.weight', 'rpn.blocks.1.14.weight', 'rpn.blocks.1.14.bias', 'rpn.blocks.1.14.running_mean', 'rpn.blocks.1.14.running_var', 'rpn.blocks.1.14.num_batches_tracked', 'rpn.blocks.1.16.weight', 'rpn.blocks.1.17.weight', 'rpn.blocks.1.17.bias', 'rpn.blocks.1.17.running_mean', 'rpn.blocks.1.17.running_var', 'rpn.blocks.1.17.num_batches_tracked', 'rpn.blocks.2.1.weight', 'rpn.blocks.2.2.weight', 'rpn.blocks.2.2.bias', 'rpn.blocks.2.2.running_mean', 'rpn.blocks.2.2.running_var', 'rpn.blocks.2.2.num_batches_tracked', 'rpn.blocks.2.4.weight', 'rpn.blocks.2.5.weight', 'rpn.blocks.2.5.bias', 'rpn.blocks.2.5.running_mean', 'rpn.blocks.2.5.running_var', 'rpn.blocks.2.5.num_batches_tracked', 'rpn.blocks.2.7.weight', 'rpn.blocks.2.8.weight', 'rpn.blocks.2.8.bias', 'rpn.blocks.2.8.running_mean', 'rpn.blocks.2.8.running_var', 'rpn.blocks.2.8.num_batches_tracked', 'rpn.blocks.2.10.weight', 'rpn.blocks.2.11.weight', 'rpn.blocks.2.11.bias', 'rpn.blocks.2.11.running_mean', 'rpn.blocks.2.11.running_var', 'rpn.blocks.2.11.num_batches_tracked', 'rpn.blocks.2.13.weight', 'rpn.blocks.2.14.weight', 'rpn.blocks.2.14.bias', 'rpn.blocks.2.14.running_mean', 'rpn.blocks.2.14.running_var', 'rpn.blocks.2.14.num_batches_tracked', 'rpn.blocks.2.16.weight', 'rpn.blocks.2.17.weight', 'rpn.blocks.2.17.bias', 'rpn.blocks.2.17.running_mean', 'rpn.blocks.2.17.running_var', 'rpn.blocks.2.17.num_batches_tracked', 'rpn.deblocks.0.0.weight', 'rpn.deblocks.0.1.weight', 'rpn.deblocks.0.1.bias', 'rpn.deblocks.0.1.running_mean', 'rpn.deblocks.0.1.running_var', 'rpn.deblocks.0.1.num_batches_tracked', 'rpn.deblocks.1.0.weight', 'rpn.deblocks.1.1.weight', 'rpn.deblocks.1.1.bias', 'rpn.deblocks.1.1.running_mean', 'rpn.deblocks.1.1.running_var', 'rpn.deblocks.1.1.num_batches_tracked', 'rpn.deblocks.2.0.weight', 'rpn.deblocks.2.1.weight', 'rpn.deblocks.2.1.bias', 'rpn.deblocks.2.1.running_mean', 'rpn.deblocks.2.1.running_var', 'rpn.deblocks.2.1.num_batches_tracked', 'rpn.conv_cls.weight', 'rpn.conv_cls.bias', 'rpn.conv_box.weight', 'rpn.conv_box.bias', 'rpn.conv_dir_cls.weight', 'rpn.conv_dir_cls.bias', 'rpn_acc.total', 'rpn_acc.count', 'rpn_precision.total', 'rpn_precision.count', 'rpn_recall.total', 'rpn_recall.count', 'rpn_metrics.prec_total', 'rpn_metrics.prec_count', 'rpn_metrics.rec_total', 'rpn_metrics.rec_count', 'rpn_cls_loss.total', 'rpn_cls_loss.count', 'rpn_loc_loss.total', 'rpn_loc_loss.count', 'rpn_total_loss.total', 'rpn_total_loss.count'])"
      ]
     },
     "execution_count": 1,
     "metadata": {},
     "output_type": "execute_result"
    }
   ],
   "source": [
    "# method: Platt scaling\n",
    "\n",
    "weight = torch.load(MODEL_WEIGHT)\n",
    "weight.keys()"
   ]
  },
  {
   "cell_type": "code",
   "execution_count": 12,
   "metadata": {
    "execution": {
     "iopub.execute_input": "2021-10-24T09:17:17.747998Z",
     "iopub.status.busy": "2021-10-24T09:17:17.747673Z",
     "iopub.status.idle": "2021-10-24T09:17:17.749562Z",
     "shell.execute_reply": "2021-10-24T09:17:17.749789Z"
    }
   },
   "outputs": [
    {
     "data": {
      "text/plain": [
       "(torch.Size([2, 384, 1, 1]), torch.Size([2]))"
      ]
     },
     "execution_count": 1,
     "metadata": {},
     "output_type": "execute_result"
    }
   ],
   "source": [
    "weight[\"rpn.conv_cls.weight\"].shape, weight[\"rpn.conv_cls.bias\"].shape"
   ]
  },
  {
   "cell_type": "code",
   "execution_count": 13,
   "metadata": {
    "execution": {
     "iopub.execute_input": "2021-10-24T09:17:17.753198Z",
     "iopub.status.busy": "2021-10-24T09:17:17.752903Z",
     "iopub.status.idle": "2021-10-24T09:17:17.907250Z",
     "shell.execute_reply": "2021-10-24T09:17:17.907553Z"
    }
   },
   "outputs": [
    {
     "data": {
      "image/png": "[encoded data removed]",
      "text/plain": [
       "<Figure size 432x288 with 1 Axes>"
      ]
     },
     "metadata": {
      "needs_background": "light"
     },
     "output_type": "display_data"
    }
   ],
   "source": [
    "platt = LogisticRegression(random_state=0).fit(logit(y_pred).reshape(-1, 1), y_true)\n",
    "yc_pred = platt.predict_proba(logit(y_pred).reshape(-1, 1))[:,1]\n",
    "\n",
    "prob_true, prob_pred = calibration_curve(y_true, y_pred, n_bins=15)\n",
    "ece = expected_calibration_error(y_true, y_pred, n_bins=15)\n",
    "plt.plot(prob_pred, prob_true, \"s-\", label=\"Raw (ECE=%.3f)\"%ece)\n",
    "\n",
    "prob_true, prob_pred = calibration_curve(y_true, yc_pred, n_bins=15)\n",
    "ece = expected_calibration_error(y_true, yc_pred, n_bins=15)\n",
    "plt.plot(prob_pred, prob_true, \"s-\", label=\"%s (ECE=%.3f)\"%(\"platt\",ece))\n",
    "\n",
    "plt.xlim(-0.05, 1.05)\n",
    "plt.xlabel(\"Mean predicted value\")\n",
    "plt.ylabel(\"Fraction of positives\")\n",
    "plt.legend()\n",
    "\n",
    "plt.plot([0,1], [0,1], \"k--\")\n",
    "plt.show()"
   ]
  },
  {
   "cell_type": "code",
   "execution_count": 14,
   "metadata": {
    "execution": {
     "iopub.execute_input": "2021-10-24T09:17:17.908915Z",
     "iopub.status.busy": "2021-10-24T09:17:17.908616Z",
     "iopub.status.idle": "2021-10-24T09:17:17.911169Z",
     "shell.execute_reply": "2021-10-24T09:17:17.911459Z"
    }
   },
   "outputs": [
    {
     "data": {
      "text/plain": [
       "(2.0080800065053257, -1.7344618899875144)"
      ]
     },
     "execution_count": 1,
     "metadata": {},
     "output_type": "execute_result"
    }
   ],
   "source": [
    "platt.coef_.item(), platt.intercept_.item()"
   ]
  },
  {
   "cell_type": "code",
   "execution_count": 15,
   "metadata": {
    "execution": {
     "iopub.execute_input": "2021-10-24T09:17:17.912763Z",
     "iopub.status.busy": "2021-10-24T09:17:17.912461Z",
     "iopub.status.idle": "2021-10-24T09:17:17.979837Z",
     "shell.execute_reply": "2021-10-24T09:17:17.980098Z"
    }
   },
   "outputs": [],
   "source": [
    "OUTPUT_DIR = MODEL_DIR / \"calibrated\"\n",
    "OUTPUT_DIR.mkdir(exist_ok=True)\n",
    "\n",
    "weight = torch.load(MODEL_WEIGHT, map_location=\"cpu\")\n",
    "\n",
    "cW = np.array([1.0, platt.coef_.item()])\n",
    "cb = np.array([0.0, platt.intercept_.item()])\n",
    "\n",
    "W = weight[\"rpn.conv_cls.weight\"]\n",
    "b = weight[\"rpn.conv_cls.bias\"] \n",
    "\n",
    "weight[\"rpn.conv_cls.weight\"] = W * cW.reshape(-1,1,1,1)\n",
    "weight[\"rpn.conv_cls.bias\"] = b * cW + cb\n",
    "\n",
    "assert weight[\"rpn.conv_cls.weight\"].shape == W.shape\n",
    "assert weight[\"rpn.conv_cls.bias\"].shape == b.shape\n",
    "\n",
    "torch.save(weight, OUTPUT_DIR / f\"voxelnet-{GSTEP}.tckpt\")"
   ]
  },
  {
   "cell_type": "code",
   "execution_count": 16,
   "metadata": {
    "execution": {
     "iopub.execute_input": "2021-10-24T09:17:17.981486Z",
     "iopub.status.busy": "2021-10-24T09:17:17.981185Z",
     "iopub.status.idle": "2021-10-24T09:17:17.984772Z",
     "shell.execute_reply": "2021-10-24T09:17:17.985065Z"
    }
   },
   "outputs": [
    {
     "data": {
      "text/plain": [
       "124"
      ]
     },
     "execution_count": 1,
     "metadata": {},
     "output_type": "execute_result"
    }
   ],
   "source": [
    "(OUTPUT_DIR / \"checkpoints.json\").write_text(\"\"\"{\n",
    "\"latest_ckpt\": {\n",
    "  \"voxelnet\": \"voxelnet-%d.tckpt\"\n",
    "},\n",
    "\"all_ckpts\": {\n",
    "  \"voxelnet\": [\n",
    "    \"voxelnet-%d.tckpt\"\n",
    "  ]\n",
    "}\n",
    "}\"\"\" % (GSTEP, GSTEP))"
   ]
  },
  {
   "cell_type": "code",
   "execution_count": 17,
   "metadata": {
    "execution": {
     "iopub.execute_input": "2021-10-24T09:17:17.986389Z",
     "iopub.status.busy": "2021-10-24T09:17:17.986082Z",
     "iopub.status.idle": "2021-10-24T09:20:06.296701Z",
     "shell.execute_reply": "2021-10-24T09:20:06.294980Z"
    }
   },
   "outputs": [
    {
     "name": "stdout",
     "output_type": "stream",
     "text": [
      "/usr/local/lib/python3.9/dist-packages/numba/cuda/envvars.py:17: NumbaWarning: \r\n",
      "Environment variables with the 'NUMBAPRO' prefix are deprecated and consequently ignored, found use of NUMBAPRO_CUDA_DRIVER=/usr/lib/x86_64-linux-gnu/libcuda.so.\r\n",
      "\r\n",
      "For more information about alternatives visit: ('https://numba.pydata.org/numba-doc/latest/cuda/overview.html', '#cudatoolkit-lookup')\r\n",
      "  warnings.warn(errors.NumbaWarning(msg))\r\n",
      "/usr/local/lib/python3.9/dist-packages/numba/cuda/envvars.py:17: NumbaWarning: \r\n",
      "Environment variables with the 'NUMBAPRO' prefix are deprecated and consequently ignored, found use of NUMBAPRO_NVVM=/usr/local/cuda/nvvm/lib64/libnvvm.so.\r\n",
      "\r\n",
      "For more information about alternatives visit: ('https://numba.pydata.org/numba-doc/latest/cuda/overview.html', '#cudatoolkit-lookup')\r\n",
      "  warnings.warn(errors.NumbaWarning(msg))\r\n",
      "/usr/local/lib/python3.9/dist-packages/numba/cuda/envvars.py:17: NumbaWarning: \r\n",
      "Environment variables with the 'NUMBAPRO' prefix are deprecated and consequently ignored, found use of NUMBAPRO_LIBDEVICE=/usr/local/cuda/nvvm/libdevice.\r\n",
      "\r\n",
      "For more information about alternatives visit: ('https://numba.pydata.org/numba-doc/latest/cuda/overview.html', '#cudatoolkit-lookup')\r\n",
      "  warnings.warn(errors.NumbaWarning(msg))\r\n",
      "Restoring parameters from /app/model/pointpillars-car-16-onecycle/calibrated/voxelnet-92800.tckpt\r\n",
      "feature_map_size [1, 248, 216]\r\n",
      "remain number of infos: 3769\r\n",
      "Generate output labels...\r\n",
      "/app/second.pytorch/second/pytorch/models/voxelnet.py:433: UserWarning: indexing with dtype torch.uint8 is now deprecated, please use a dtype torch.bool instead. (Triggered internally at  /pytorch/aten/src/ATen/native/IndexingUtils.h:30.)\r\n",
      "  box_preds = box_preds[a_mask]\r\n",
      "/app/second.pytorch/second/pytorch/models/voxelnet.py:434: UserWarning: indexing with dtype torch.uint8 is now deprecated, please use a dtype torch.bool instead. (Triggered internally at  /pytorch/aten/src/ATen/native/IndexingUtils.h:30.)\r\n",
      "  cls_preds = cls_preds[a_mask]\r\n",
      "/app/second.pytorch/second/pytorch/models/voxelnet.py:439: UserWarning: indexing with dtype torch.uint8 is now deprecated, please use a dtype torch.bool instead. (Triggered internally at  /pytorch/aten/src/ATen/native/IndexingUtils.h:30.)\r\n",
      "  dir_preds = dir_preds[a_mask]\r\n",
      "[100.0%][===================>][34.02it/s][01:57>00:00]   \r\n",
      "generate label finished(32.04/s). start eval:\r\n",
      "avg example to torch time: 2.282 ms\r\n",
      "avg prep time: 8.876 ms\r\n",
      "avg voxel_feature_extractor time = 4.977 ms\r\n",
      "avg middle forward time = 0.731 ms\r\n",
      "avg rpn forward time = 12.194 ms\r\n",
      "avg predict time = 1.850 ms\r\n",
      "/usr/local/lib/python3.9/dist-packages/numba/core/typed_passes.py:326: NumbaPerformanceWarning: \r\n",
      "The keyword argument 'parallel=True' was specified but no transformation for parallel execution was possible.\r\n",
      "\r\n",
      "To find out why, try turning on parallel diagnostics, see https://numba.pydata.org/numba-doc/latest/user/parallel.html#diagnostics for help.\r\n",
      "\r\n",
      "File \"utils/eval.py\", line 129:\r\n",
      "@numba.jit(nopython=True, parallel=True)\r\n",
      "def box3d_overlap_kernel(boxes,\r\n",
      "^\r\n",
      "\r\n",
      "  warnings.warn(errors.NumbaPerformanceWarning(msg,\r\n",
      "feature: 100%|█████████████████████████████| 3769/3769 [00:16<00:00, 232.17it/s]\r\n",
      "Evaluation official\r\n",
      "Car AP(Average Precision)@0.70, 0.70, 0.70:\r\n",
      "bbox AP:90.65, 88.05, 85.23\r\n",
      "bev  AP:90.17, 83.80, 81.62\r\n",
      "3d   AP:81.70, 75.07, 70.41\r\n",
      "aos  AP:0.40, 1.38, 2.13\r\n",
      "Car AP(Average Precision)@0.70, 0.50, 0.50:\r\n",
      "bbox AP:90.65, 88.05, 85.23\r\n",
      "bev  AP:90.82, 89.44, 88.62\r\n",
      "3d   AP:90.82, 89.28, 88.27\r\n",
      "aos  AP:0.40, 1.38, 2.13\r\n",
      "\r\n",
      "Evaluation coco\r\n",
      "Car coco AP@0.50:0.05:0.95:\r\n",
      "bbox AP:71.50, 67.05, 65.21\r\n",
      "bev  AP:70.72, 66.17, 64.43\r\n",
      "3d   AP:58.98, 54.27, 52.04\r\n",
      "aos  AP:0.31, 0.99, 1.59\r\n",
      "\r\n"
     ]
    }
   ],
   "source": [
    "command = f\"docker run --rm -it --gpus all \\\n",
    "\t\t-v /hdd/kitti:/app/data \\\n",
    "\t\t-v $PWD/model:/app/model \\\n",
    "\t\tsecond.pytorch:latest \\\n",
    "\t\tpython ./pytorch/train.py evaluate \\\n",
    "\t\t\t--config_path=./configs/{CONF} \\\n",
    "\t\t\t--model_dir=/app/model/{MODEL}/calibrated \\\n",
    "\t\t\t--measure_time=True \\\n",
    "\t\t\t--batch_size=1\"\n",
    "!bash -c \"{command}\""
   ]
  },
  {
   "cell_type": "code",
   "execution_count": 18,
   "metadata": {
    "execution": {
     "iopub.execute_input": "2021-10-24T09:20:06.399918Z",
     "iopub.status.busy": "2021-10-24T09:20:06.395910Z",
     "iopub.status.idle": "2021-10-24T09:20:06.675482Z",
     "shell.execute_reply": "2021-10-24T09:20:06.675161Z"
    }
   },
   "outputs": [
    {
     "data": {
      "application/vnd.jupyter.widget-view+json": {
       "model_id": "ba56497c81484026933100d283b296d7",
       "version_major": 2,
       "version_minor": 0
      },
      "text/plain": [
       "  0%|          | 0/3769 [00:00<?, ?it/s]"
      ]
     },
     "metadata": {},
     "output_type": "display_data"
    },
    {
     "data": {
      "image/png": "[encoded data removed]",
      "text/plain": [
       "<Figure size 720x360 with 2 Axes>"
      ]
     },
     "metadata": {
      "needs_background": "light"
     },
     "output_type": "display_data"
    }
   ],
   "source": [
    "with (OUTPUT_DIR / f\"eval_results/step_{GSTEP}/result_kitti.pkl\").open(\"rb\") as f:\n",
    "    dets_calib = pickle.load(f)\n",
    "\n",
    "cy_true_li = []\n",
    "cy_pred_li = []\n",
    "\n",
    "for det in tqdm(dets_calib):\n",
    "    result = det[\"official/3d_0.70/2/bin\"]\n",
    "    mask = result != 0 # remove 'ignore' detections\n",
    "    cy_true_li.append(np.where(result[mask] == 1, 1, 0))\n",
    "    cy_pred_li.append(det[\"score\"][mask])\n",
    "\n",
    "cy_true = np.concatenate(cy_true_li)\n",
    "cy_pred = np.concatenate(cy_pred_li)\n",
    "\n",
    "show_calibration(cy_true, cy_pred)"
   ]
  },
  {
   "cell_type": "code",
   "execution_count": 19,
   "metadata": {
    "execution": {
     "iopub.execute_input": "2021-10-24T09:20:06.678801Z",
     "iopub.status.busy": "2021-10-24T09:20:06.678497Z",
     "iopub.status.idle": "2021-10-24T09:20:06.680081Z",
     "shell.execute_reply": "2021-10-24T09:20:06.679786Z"
    }
   },
   "outputs": [],
   "source": [
    "import re\n",
    "\n",
    "with (MODEL_DIR / f\"eval_results/step_{GSTEP}/result_evaluation.pkl\").open(\"rb\") as f:\n",
    "    result = pickle.load(f)\n",
    "\n",
    "with (MODEL_DIR / f\"calibrated/eval_results/step_{GSTEP}/result_evaluation.pkl\").open(\"rb\") as f:\n",
    "    result_calib = pickle.load(f)\n",
    "\n",
    "match = re.search(r\"AP:([\\d\\.]+), ([\\d\\.]+), ([\\d\\.]+)\", result[\"official\"].split(\"\\n\")[3])\n",
    "match_calib = re.search(r\"AP:([\\d\\.]+), ([\\d\\.]+), ([\\d\\.]+)\", result_calib[\"official\"].split(\"\\n\")[3])"
   ]
  },
  {
   "cell_type": "code",
   "execution_count": 20,
   "metadata": {
    "execution": {
     "iopub.execute_input": "2021-10-24T09:20:06.682718Z",
     "iopub.status.busy": "2021-10-24T09:20:06.682422Z",
     "iopub.status.idle": "2021-10-24T09:20:06.690136Z",
     "shell.execute_reply": "2021-10-24T09:20:06.690391Z"
    }
   },
   "outputs": [
    {
     "data": {
      "text/html": [
       "<div>\n",
       "<style scoped>\n",
       "    .dataframe tbody tr th:only-of-type {\n",
       "        vertical-align: middle;\n",
       "    }\n",
       "\n",
       "    .dataframe tbody tr th {\n",
       "        vertical-align: top;\n",
       "    }\n",
       "\n",
       "    .dataframe thead th {\n",
       "        text-align: right;\n",
       "    }\n",
       "</style>\n",
       "<table border=\"1\" class=\"dataframe\">\n",
       "  <thead>\n",
       "    <tr style=\"text-align: right;\">\n",
       "      <th></th>\n",
       "      <th>ECE</th>\n",
       "      <th>Easy 3DIoU@0.7</th>\n",
       "      <th>Moderate 3DIoU@0.7</th>\n",
       "      <th>Hard 3DIoU@0.7</th>\n",
       "    </tr>\n",
       "    <tr>\n",
       "      <th>method</th>\n",
       "      <th></th>\n",
       "      <th></th>\n",
       "      <th></th>\n",
       "      <th></th>\n",
       "    </tr>\n",
       "  </thead>\n",
       "  <tbody>\n",
       "    <tr>\n",
       "      <th>baseline</th>\n",
       "      <td>0.093761</td>\n",
       "      <td>83.31</td>\n",
       "      <td>76.14</td>\n",
       "      <td>69.68</td>\n",
       "    </tr>\n",
       "    <tr>\n",
       "      <th>Platt scaling</th>\n",
       "      <td>0.071013</td>\n",
       "      <td>81.70</td>\n",
       "      <td>75.07</td>\n",
       "      <td>70.41</td>\n",
       "    </tr>\n",
       "  </tbody>\n",
       "</table>\n",
       "</div>"
      ],
      "text/plain": [
       "                    ECE Easy 3DIoU@0.7 Moderate 3DIoU@0.7 Hard 3DIoU@0.7\n",
       "method                                                                  \n",
       "baseline       0.093761          83.31              76.14          69.68\n",
       "Platt scaling  0.071013          81.70              75.07          70.41"
      ]
     },
     "execution_count": 1,
     "metadata": {},
     "output_type": "execute_result"
    }
   ],
   "source": [
    "df = pd.DataFrame({\n",
    "    \"method\": [\"baseline\", \"Platt scaling\"],\n",
    "    \"ECE\": [expected_calibration_error(y_true, y_pred, 15), expected_calibration_error(cy_true, cy_pred, 15)],\n",
    "    \"Easy 3DIoU@0.7\": [match.group(1), match_calib.group(1)],\n",
    "    \"Moderate 3DIoU@0.7\": [match.group(2), match_calib.group(2)],\n",
    "    \"Hard 3DIoU@0.7\": [match.group(3), match_calib.group(3)],\n",
    "})\n",
    "df.set_index(\"method\")"
   ]
  },
  {
   "cell_type": "markdown",
   "metadata": {},
   "source": [
    "NMSの前をいじることになるのでECEを再現できない\n",
    "やはり完全な後処理として実装する必要あり"
   ]
  },
  {
   "cell_type": "markdown",
   "metadata": {},
   "source": [
    "# Calibration as Postprocessing"
   ]
  },
  {
   "cell_type": "code",
   "execution_count": 21,
   "metadata": {
    "execution": {
     "iopub.execute_input": "2021-10-24T09:20:06.693711Z",
     "iopub.status.busy": "2021-10-24T09:20:06.693416Z",
     "iopub.status.idle": "2021-10-24T09:20:08.423068Z",
     "shell.execute_reply": "2021-10-24T09:20:08.422799Z"
    }
   },
   "outputs": [],
   "source": [
    "with (MODEL_DIR / f\"eval_results/step_{GSTEP}/result.pkl\").open(\"rb\") as f:\n",
    "    detections = pickle.load(f)\n",
    "\n",
    "platt = LogisticRegression(random_state=0).fit(logit(y_pred).reshape(-1, 1), y_true)\n",
    "for det in detections:\n",
    "    det[\"scores\"] = torch.Tensor(logit(det[\"scores\"].cpu().numpy()) * platt.coef_.item() + platt.intercept_.item()).sigmoid().to(det[\"scores\"].device)\n",
    "\n",
    "OUTPUT_POST_DIR = MODEL_DIR / f\"calibrated_postprocess/eval_results/step_{GSTEP}\"\n",
    "OUTPUT_POST_DIR.mkdir(exist_ok=True, parents=True)\n",
    "\n",
    "with (OUTPUT_POST_DIR / \"result.pkl\").open(\"wb\") as f:\n",
    "    pickle.dump(detections, f)"
   ]
  },
  {
   "cell_type": "code",
   "execution_count": 22,
   "metadata": {
    "execution": {
     "iopub.execute_input": "2021-10-24T09:20:08.443140Z",
     "iopub.status.busy": "2021-10-24T09:20:08.442812Z",
     "iopub.status.idle": "2021-10-24T09:21:22.419752Z",
     "shell.execute_reply": "2021-10-24T09:21:22.418196Z"
    }
   },
   "outputs": [
    {
     "name": "stdout",
     "output_type": "stream",
     "text": [
      "/usr/local/lib/python3.9/dist-packages/numba/cuda/envvars.py:17: NumbaWarning: \r\n",
      "Environment variables with the 'NUMBAPRO' prefix are deprecated and consequently ignored, found use of NUMBAPRO_CUDA_DRIVER=/usr/lib/x86_64-linux-gnu/libcuda.so.\r\n",
      "\r\n",
      "For more information about alternatives visit: ('https://numba.pydata.org/numba-doc/latest/cuda/overview.html', '#cudatoolkit-lookup')\r\n",
      "  warnings.warn(errors.NumbaWarning(msg))\r\n",
      "/usr/local/lib/python3.9/dist-packages/numba/cuda/envvars.py:17: NumbaWarning: \r\n",
      "Environment variables with the 'NUMBAPRO' prefix are deprecated and consequently ignored, found use of NUMBAPRO_NVVM=/usr/local/cuda/nvvm/lib64/libnvvm.so.\r\n",
      "\r\n",
      "For more information about alternatives visit: ('https://numba.pydata.org/numba-doc/latest/cuda/overview.html', '#cudatoolkit-lookup')\r\n",
      "  warnings.warn(errors.NumbaWarning(msg))\r\n",
      "/usr/local/lib/python3.9/dist-packages/numba/cuda/envvars.py:17: NumbaWarning: \r\n",
      "Environment variables with the 'NUMBAPRO' prefix are deprecated and consequently ignored, found use of NUMBAPRO_LIBDEVICE=/usr/local/cuda/nvvm/libdevice.\r\n",
      "\r\n",
      "For more information about alternatives visit: ('https://numba.pydata.org/numba-doc/latest/cuda/overview.html', '#cudatoolkit-lookup')\r\n",
      "  warnings.warn(errors.NumbaWarning(msg))\r\n",
      "feature_map_size [1, 248, 216]\r\n",
      "remain number of infos: 3769\r\n",
      "/usr/local/lib/python3.9/dist-packages/numba/core/typed_passes.py:326: NumbaPerformanceWarning: \r\n",
      "The keyword argument 'parallel=True' was specified but no transformation for parallel execution was possible.\r\n",
      "\r\n",
      "To find out why, try turning on parallel diagnostics, see https://numba.pydata.org/numba-doc/latest/user/parallel.html#diagnostics for help.\r\n",
      "\r\n",
      "File \"utils/eval.py\", line 129:\r\n",
      "@numba.jit(nopython=True, parallel=True)\r\n",
      "def box3d_overlap_kernel(boxes,\r\n",
      "^\r\n",
      "\r\n",
      "  warnings.warn(errors.NumbaPerformanceWarning(msg,\r\n",
      "feature: 100%|█████████████████████████████| 3769/3769 [00:30<00:00, 125.61it/s]\r\n",
      "Evaluation official\r\n",
      "Car AP(Average Precision)@0.70, 0.70, 0.70:\r\n",
      "bbox AP:90.69, 89.01, 87.73\r\n",
      "bev  AP:90.16, 87.29, 85.22\r\n",
      "3d   AP:83.31, 76.14, 69.68\r\n",
      "aos  AP:0.38, 1.36, 2.08\r\n",
      "Car AP(Average Precision)@0.70, 0.50, 0.50:\r\n",
      "bbox AP:90.69, 89.01, 87.73\r\n",
      "bev  AP:90.82, 90.05, 89.38\r\n",
      "3d   AP:90.82, 89.95, 89.16\r\n",
      "aos  AP:0.38, 1.36, 2.08\r\n",
      "\r\n",
      "Evaluation coco\r\n",
      "Car coco AP@0.50:0.05:0.95:\r\n",
      "bbox AP:71.65, 67.70, 65.84\r\n",
      "bev  AP:70.72, 66.80, 65.19\r\n",
      "3d   AP:59.18, 54.80, 52.51\r\n",
      "aos  AP:0.29, 1.00, 1.54\r\n",
      "\r\n"
     ]
    }
   ],
   "source": [
    "command = f\"docker run --rm -it --gpus all \\\n",
    "\t\t-v /hdd/kitti:/app/data \\\n",
    "\t\t-v $PWD/model:/app/model \\\n",
    "\t\tsecond.pytorch:latest \\\n",
    "\t\tpython ./pytorch/train.py evaluate_from_result \\\n",
    "\t\t\t--config_path=./configs/{CONF} \\\n",
    "\t\t\t--result_path_step=/app/model/{MODEL}/calibrated_postprocess/eval_results/step_{GSTEP} \\\n",
    "\t\t\t--measure_time=True \\\n",
    "\t\t\t--batch_size=1\"\n",
    "!bash -c \"{command}\""
   ]
  },
  {
   "cell_type": "code",
   "execution_count": 23,
   "metadata": {
    "execution": {
     "iopub.execute_input": "2021-10-24T09:21:22.448010Z",
     "iopub.status.busy": "2021-10-24T09:21:22.437279Z",
     "iopub.status.idle": "2021-10-24T09:21:22.839350Z",
     "shell.execute_reply": "2021-10-24T09:21:22.839037Z"
    }
   },
   "outputs": [
    {
     "data": {
      "application/vnd.jupyter.widget-view+json": {
       "model_id": "e9eaf26d7f41453ab97291a0832d3e67",
       "version_major": 2,
       "version_minor": 0
      },
      "text/plain": [
       "  0%|          | 0/3769 [00:00<?, ?it/s]"
      ]
     },
     "metadata": {},
     "output_type": "display_data"
    },
    {
     "data": {
      "image/png": "[encoded data removed]",
      "text/plain": [
       "<Figure size 720x360 with 2 Axes>"
      ]
     },
     "metadata": {
      "needs_background": "light"
     },
     "output_type": "display_data"
    },
    {
     "data": {
      "text/html": [
       "<div>\n",
       "<style scoped>\n",
       "    .dataframe tbody tr th:only-of-type {\n",
       "        vertical-align: middle;\n",
       "    }\n",
       "\n",
       "    .dataframe tbody tr th {\n",
       "        vertical-align: top;\n",
       "    }\n",
       "\n",
       "    .dataframe thead th {\n",
       "        text-align: right;\n",
       "    }\n",
       "</style>\n",
       "<table border=\"1\" class=\"dataframe\">\n",
       "  <thead>\n",
       "    <tr style=\"text-align: right;\">\n",
       "      <th></th>\n",
       "      <th>ECE</th>\n",
       "      <th>Easy 3DIoU@0.7</th>\n",
       "      <th>Moderate 3DIoU@0.7</th>\n",
       "      <th>Hard 3DIoU@0.7</th>\n",
       "    </tr>\n",
       "    <tr>\n",
       "      <th>method</th>\n",
       "      <th></th>\n",
       "      <th></th>\n",
       "      <th></th>\n",
       "      <th></th>\n",
       "    </tr>\n",
       "  </thead>\n",
       "  <tbody>\n",
       "    <tr>\n",
       "      <th>baseline</th>\n",
       "      <td>0.093761</td>\n",
       "      <td>83.31</td>\n",
       "      <td>76.14</td>\n",
       "      <td>69.68</td>\n",
       "    </tr>\n",
       "    <tr>\n",
       "      <th>Platt scaling</th>\n",
       "      <td>0.004619</td>\n",
       "      <td>83.31</td>\n",
       "      <td>76.14</td>\n",
       "      <td>69.68</td>\n",
       "    </tr>\n",
       "  </tbody>\n",
       "</table>\n",
       "</div>"
      ],
      "text/plain": [
       "                    ECE Easy 3DIoU@0.7 Moderate 3DIoU@0.7 Hard 3DIoU@0.7\n",
       "method                                                                  \n",
       "baseline       0.093761          83.31              76.14          69.68\n",
       "Platt scaling  0.004619          83.31              76.14          69.68"
      ]
     },
     "execution_count": 1,
     "metadata": {},
     "output_type": "execute_result"
    }
   ],
   "source": [
    "import re\n",
    "\n",
    "with (MODEL_DIR / f\"calibrated_postprocess/eval_results/step_{GSTEP}/result_kitti.pkl\").open(\"rb\") as f:\n",
    "    dets_calib = pickle.load(f)\n",
    "\n",
    "cy_true_li = []\n",
    "cy_pred_li = []\n",
    "\n",
    "for det in tqdm(dets_calib):\n",
    "    result = det[\"official/3d_0.70/2/bin\"]\n",
    "    mask = result != 0 # remove 'ignore' detections\n",
    "    cy_true_li.append(np.where(result[mask] == 1, 1, 0))\n",
    "    cy_pred_li.append(det[\"score\"][mask])\n",
    "\n",
    "cy_true = np.concatenate(cy_true_li)\n",
    "cy_pred = np.concatenate(cy_pred_li)\n",
    "\n",
    "show_calibration(cy_true, cy_pred)\n",
    "\n",
    "with (MODEL_DIR / f\"eval_results/step_{GSTEP}/result_evaluation.pkl\").open(\"rb\") as f:\n",
    "    result = pickle.load(f)\n",
    "\n",
    "with (MODEL_DIR / f\"calibrated_postprocess/eval_results/step_{GSTEP}/result_evaluation.pkl\").open(\"rb\") as f:\n",
    "    result_calib = pickle.load(f)\n",
    "\n",
    "match = re.search(r\"AP:([\\d\\.]+), ([\\d\\.]+), ([\\d\\.]+)\", result[\"official\"].split(\"\\n\")[3])\n",
    "match_calib = re.search(r\"AP:([\\d\\.]+), ([\\d\\.]+), ([\\d\\.]+)\", result_calib[\"official\"].split(\"\\n\")[3])\n",
    "\n",
    "df = pd.DataFrame({\n",
    "    \"method\": [\"baseline\", \"Platt scaling\"],\n",
    "    \"ECE\": [expected_calibration_error(y_true, y_pred, 15), expected_calibration_error(cy_true, cy_pred, 15)],\n",
    "    \"Easy 3DIoU@0.7\": [match.group(1), match_calib.group(1)],\n",
    "    \"Moderate 3DIoU@0.7\": [match.group(2), match_calib.group(2)],\n",
    "    \"Hard 3DIoU@0.7\": [match.group(3), match_calib.group(3)],\n",
    "})\n",
    "df.set_index(\"method\")"
   ]
  },
  {
   "cell_type": "code",
   "execution_count": null,
   "metadata": {},
   "outputs": [],
   "source": []
  }
 ],
 "metadata": {
  "interpreter": {
   "hash": "a7c0658967702a44083e42a2d71639ee532b580d98613c186f203eefa600092a"
  },
  "kernelspec": {
   "display_name": "Python 3.7.10 64-bit ('master-thesis': conda)",
   "name": "python3"
  },
  "language_info": {
   "codemirror_mode": {
    "name": "ipython",
    "version": 3
   },
   "file_extension": ".py",
   "mimetype": "text/x-python",
   "name": "python",
   "nbconvert_exporter": "python",
   "pygments_lexer": "ipython3",
   "version": "3.7.10"
  },
  "widgets": {
   "application/vnd.jupyter.widget-state+json": {
    "state": {
     "0b2e10d148e347799696eb8d54ab480e": {
      "model_module": "@jupyter-widgets/controls",
      "model_module_version": "1.5.0",
      "model_name": "HTMLModel",
      "state": {
       "_dom_classes": [],
       "_model_module": "@jupyter-widgets/controls",
       "_model_module_version": "1.5.0",
       "_model_name": "HTMLModel",
       "_view_count": null,
       "_view_module": "@jupyter-widgets/controls",
       "_view_module_version": "1.5.0",
       "_view_name": "HTMLView",
       "description": "",
       "description_tooltip": null,
       "layout": "IPY_MODEL_34cede8266d44db69e89d24471f98a8f",
       "placeholder": "​",
       "style": "IPY_MODEL_6f14de4f5e8b4bfdbb3f277a20efe37b",
       "value": " 3769/3769 [00:00&lt;00:00, 114286.46it/s]"
      }
     },
     "0d3ec09549584908882c784c3a0c91bc": {
      "model_module": "@jupyter-widgets/base",
      "model_module_version": "1.2.0",
      "model_name": "LayoutModel",
      "state": {
       "_model_module": "@jupyter-widgets/base",
       "_model_module_version": "1.2.0",
       "_model_name": "LayoutModel",
       "_view_count": null,
       "_view_module": "@jupyter-widgets/base",
       "_view_module_version": "1.2.0",
       "_view_name": "LayoutView",
       "align_content": null,
       "align_items": null,
       "align_self": null,
       "border": null,
       "bottom": null,
       "display": null,
       "flex": null,
       "flex_flow": null,
       "grid_area": null,
       "grid_auto_columns": null,
       "grid_auto_flow": null,
       "grid_auto_rows": null,
       "grid_column": null,
       "grid_gap": null,
       "grid_row": null,
       "grid_template_areas": null,
       "grid_template_columns": null,
       "grid_template_rows": null,
       "height": null,
       "justify_content": null,
       "justify_items": null,
       "left": null,
       "margin": null,
       "max_height": null,
       "max_width": null,
       "min_height": null,
       "min_width": null,
       "object_fit": null,
       "object_position": null,
       "order": null,
       "overflow": null,
       "overflow_x": null,
       "overflow_y": null,
       "padding": null,
       "right": null,
       "top": null,
       "visibility": null,
       "width": null
      }
     },
     "12c1daf861644599bda9a4c2f3057cb1": {
      "model_module": "@jupyter-widgets/base",
      "model_module_version": "1.2.0",
      "model_name": "LayoutModel",
      "state": {
       "_model_module": "@jupyter-widgets/base",
       "_model_module_version": "1.2.0",
       "_model_name": "LayoutModel",
       "_view_count": null,
       "_view_module": "@jupyter-widgets/base",
       "_view_module_version": "1.2.0",
       "_view_name": "LayoutView",
       "align_content": null,
       "align_items": null,
       "align_self": null,
       "border": null,
       "bottom": null,
       "display": null,
       "flex": null,
       "flex_flow": null,
       "grid_area": null,
       "grid_auto_columns": null,
       "grid_auto_flow": null,
       "grid_auto_rows": null,
       "grid_column": null,
       "grid_gap": null,
       "grid_row": null,
       "grid_template_areas": null,
       "grid_template_columns": null,
       "grid_template_rows": null,
       "height": null,
       "justify_content": null,
       "justify_items": null,
       "left": null,
       "margin": null,
       "max_height": null,
       "max_width": null,
       "min_height": null,
       "min_width": null,
       "object_fit": null,
       "object_position": null,
       "order": null,
       "overflow": null,
       "overflow_x": null,
       "overflow_y": null,
       "padding": null,
       "right": null,
       "top": null,
       "visibility": null,
       "width": null
      }
     },
     "139caacc98764ae0ae4ce532740f476e": {
      "model_module": "@jupyter-widgets/controls",
      "model_module_version": "1.5.0",
      "model_name": "HTMLModel",
      "state": {
       "_dom_classes": [],
       "_model_module": "@jupyter-widgets/controls",
       "_model_module_version": "1.5.0",
       "_model_name": "HTMLModel",
       "_view_count": null,
       "_view_module": "@jupyter-widgets/controls",
       "_view_module_version": "1.5.0",
       "_view_name": "HTMLView",
       "description": "",
       "description_tooltip": null,
       "layout": "IPY_MODEL_8225934d220d41eaa24173e936a6ec0a",
       "placeholder": "​",
       "style": "IPY_MODEL_de0494e74bb244a0b7e25099860ff190",
       "value": "100%"
      }
     },
     "151f9b58730344eb88f08ae0e05ed3c7": {
      "model_module": "@jupyter-widgets/base",
      "model_module_version": "1.2.0",
      "model_name": "LayoutModel",
      "state": {
       "_model_module": "@jupyter-widgets/base",
       "_model_module_version": "1.2.0",
       "_model_name": "LayoutModel",
       "_view_count": null,
       "_view_module": "@jupyter-widgets/base",
       "_view_module_version": "1.2.0",
       "_view_name": "LayoutView",
       "align_content": null,
       "align_items": null,
       "align_self": null,
       "border": null,
       "bottom": null,
       "display": null,
       "flex": null,
       "flex_flow": null,
       "grid_area": null,
       "grid_auto_columns": null,
       "grid_auto_flow": null,
       "grid_auto_rows": null,
       "grid_column": null,
       "grid_gap": null,
       "grid_row": null,
       "grid_template_areas": null,
       "grid_template_columns": null,
       "grid_template_rows": null,
       "height": null,
       "justify_content": null,
       "justify_items": null,
       "left": null,
       "margin": null,
       "max_height": null,
       "max_width": null,
       "min_height": null,
       "min_width": null,
       "object_fit": null,
       "object_position": null,
       "order": null,
       "overflow": null,
       "overflow_x": null,
       "overflow_y": null,
       "padding": null,
       "right": null,
       "top": null,
       "visibility": null,
       "width": null
      }
     },
     "15ad8547386b4284b2489b664708aa71": {
      "model_module": "@jupyter-widgets/controls",
      "model_module_version": "1.5.0",
      "model_name": "HTMLModel",
      "state": {
       "_dom_classes": [],
       "_model_module": "@jupyter-widgets/controls",
       "_model_module_version": "1.5.0",
       "_model_name": "HTMLModel",
       "_view_count": null,
       "_view_module": "@jupyter-widgets/controls",
       "_view_module_version": "1.5.0",
       "_view_name": "HTMLView",
       "description": "",
       "description_tooltip": null,
       "layout": "IPY_MODEL_496256b62b12408caacda14691351fad",
       "placeholder": "​",
       "style": "IPY_MODEL_e392989b3b4247da812d3797c672f9b6",
       "value": " 3769/3769 [00:00&lt;00:00, 111941.96it/s]"
      }
     },
     "16a8c3a485244ab79e08d98e48d5c202": {
      "model_module": "@jupyter-widgets/base",
      "model_module_version": "1.2.0",
      "model_name": "LayoutModel",
      "state": {
       "_model_module": "@jupyter-widgets/base",
       "_model_module_version": "1.2.0",
       "_model_name": "LayoutModel",
       "_view_count": null,
       "_view_module": "@jupyter-widgets/base",
       "_view_module_version": "1.2.0",
       "_view_name": "LayoutView",
       "align_content": null,
       "align_items": null,
       "align_self": null,
       "border": null,
       "bottom": null,
       "display": null,
       "flex": null,
       "flex_flow": null,
       "grid_area": null,
       "grid_auto_columns": null,
       "grid_auto_flow": null,
       "grid_auto_rows": null,
       "grid_column": null,
       "grid_gap": null,
       "grid_row": null,
       "grid_template_areas": null,
       "grid_template_columns": null,
       "grid_template_rows": null,
       "height": null,
       "justify_content": null,
       "justify_items": null,
       "left": null,
       "margin": null,
       "max_height": null,
       "max_width": null,
       "min_height": null,
       "min_width": null,
       "object_fit": null,
       "object_position": null,
       "order": null,
       "overflow": null,
       "overflow_x": null,
       "overflow_y": null,
       "padding": null,
       "right": null,
       "top": null,
       "visibility": null,
       "width": null
      }
     },
     "1a64deb3412a4a21bc6ef8153b790abb": {
      "model_module": "@jupyter-widgets/controls",
      "model_module_version": "1.5.0",
      "model_name": "HBoxModel",
      "state": {
       "_dom_classes": [],
       "_model_module": "@jupyter-widgets/controls",
       "_model_module_version": "1.5.0",
       "_model_name": "HBoxModel",
       "_view_count": null,
       "_view_module": "@jupyter-widgets/controls",
       "_view_module_version": "1.5.0",
       "_view_name": "HBoxView",
       "box_style": "",
       "children": [
        "IPY_MODEL_62b76f898f69431f8aba643054734134",
        "IPY_MODEL_b2baa6dad404489e86a7fd88d4d83810",
        "IPY_MODEL_15ad8547386b4284b2489b664708aa71"
       ],
       "layout": "IPY_MODEL_8179b7c3e573444981e66f503a6c5e4b"
      }
     },
     "1bd87c5a19864e7ab02ed51a6b87395c": {
      "model_module": "@jupyter-widgets/controls",
      "model_module_version": "1.5.0",
      "model_name": "ProgressStyleModel",
      "state": {
       "_model_module": "@jupyter-widgets/controls",
       "_model_module_version": "1.5.0",
       "_model_name": "ProgressStyleModel",
       "_view_count": null,
       "_view_module": "@jupyter-widgets/base",
       "_view_module_version": "1.2.0",
       "_view_name": "StyleView",
       "bar_color": null,
       "description_width": ""
      }
     },
     "23674b3715ea496eb4697ff0a225c457": {
      "model_module": "@jupyter-widgets/controls",
      "model_module_version": "1.5.0",
      "model_name": "DescriptionStyleModel",
      "state": {
       "_model_module": "@jupyter-widgets/controls",
       "_model_module_version": "1.5.0",
       "_model_name": "DescriptionStyleModel",
       "_view_count": null,
       "_view_module": "@jupyter-widgets/base",
       "_view_module_version": "1.2.0",
       "_view_name": "StyleView",
       "description_width": ""
      }
     },
     "2decfc7470414bd2b0c00ca2e14967ef": {
      "model_module": "@jupyter-widgets/controls",
      "model_module_version": "1.5.0",
      "model_name": "FloatProgressModel",
      "state": {
       "_dom_classes": [],
       "_model_module": "@jupyter-widgets/controls",
       "_model_module_version": "1.5.0",
       "_model_name": "FloatProgressModel",
       "_view_count": null,
       "_view_module": "@jupyter-widgets/controls",
       "_view_module_version": "1.5.0",
       "_view_name": "ProgressView",
       "bar_style": "success",
       "description": "",
       "description_tooltip": null,
       "layout": "IPY_MODEL_16a8c3a485244ab79e08d98e48d5c202",
       "max": 3769.0,
       "min": 0.0,
       "orientation": "horizontal",
       "style": "IPY_MODEL_c28de5db4a5c45878fa3c52eb203114c",
       "value": 3769.0
      }
     },
     "34cede8266d44db69e89d24471f98a8f": {
      "model_module": "@jupyter-widgets/base",
      "model_module_version": "1.2.0",
      "model_name": "LayoutModel",
      "state": {
       "_model_module": "@jupyter-widgets/base",
       "_model_module_version": "1.2.0",
       "_model_name": "LayoutModel",
       "_view_count": null,
       "_view_module": "@jupyter-widgets/base",
       "_view_module_version": "1.2.0",
       "_view_name": "LayoutView",
       "align_content": null,
       "align_items": null,
       "align_self": null,
       "border": null,
       "bottom": null,
       "display": null,
       "flex": null,
       "flex_flow": null,
       "grid_area": null,
       "grid_auto_columns": null,
       "grid_auto_flow": null,
       "grid_auto_rows": null,
       "grid_column": null,
       "grid_gap": null,
       "grid_row": null,
       "grid_template_areas": null,
       "grid_template_columns": null,
       "grid_template_rows": null,
       "height": null,
       "justify_content": null,
       "justify_items": null,
       "left": null,
       "margin": null,
       "max_height": null,
       "max_width": null,
       "min_height": null,
       "min_width": null,
       "object_fit": null,
       "object_position": null,
       "order": null,
       "overflow": null,
       "overflow_x": null,
       "overflow_y": null,
       "padding": null,
       "right": null,
       "top": null,
       "visibility": null,
       "width": null
      }
     },
     "35ce456b059d4d9392388c5980470390": {
      "model_module": "@jupyter-widgets/base",
      "model_module_version": "1.2.0",
      "model_name": "LayoutModel",
      "state": {
       "_model_module": "@jupyter-widgets/base",
       "_model_module_version": "1.2.0",
       "_model_name": "LayoutModel",
       "_view_count": null,
       "_view_module": "@jupyter-widgets/base",
       "_view_module_version": "1.2.0",
       "_view_name": "LayoutView",
       "align_content": null,
       "align_items": null,
       "align_self": null,
       "border": null,
       "bottom": null,
       "display": null,
       "flex": null,
       "flex_flow": null,
       "grid_area": null,
       "grid_auto_columns": null,
       "grid_auto_flow": null,
       "grid_auto_rows": null,
       "grid_column": null,
       "grid_gap": null,
       "grid_row": null,
       "grid_template_areas": null,
       "grid_template_columns": null,
       "grid_template_rows": null,
       "height": null,
       "justify_content": null,
       "justify_items": null,
       "left": null,
       "margin": null,
       "max_height": null,
       "max_width": null,
       "min_height": null,
       "min_width": null,
       "object_fit": null,
       "object_position": null,
       "order": null,
       "overflow": null,
       "overflow_x": null,
       "overflow_y": null,
       "padding": null,
       "right": null,
       "top": null,
       "visibility": null,
       "width": null
      }
     },
     "494d569b75fa41aebbc7269f5c1d63fa": {
      "model_module": "@jupyter-widgets/controls",
      "model_module_version": "1.5.0",
      "model_name": "HTMLModel",
      "state": {
       "_dom_classes": [],
       "_model_module": "@jupyter-widgets/controls",
       "_model_module_version": "1.5.0",
       "_model_name": "HTMLModel",
       "_view_count": null,
       "_view_module": "@jupyter-widgets/controls",
       "_view_module_version": "1.5.0",
       "_view_name": "HTMLView",
       "description": "",
       "description_tooltip": null,
       "layout": "IPY_MODEL_cd9aec411ea44f959e4fdb87bff82c6d",
       "placeholder": "​",
       "style": "IPY_MODEL_23674b3715ea496eb4697ff0a225c457",
       "value": " 3769/3769 [00:00&lt;00:00, 118488.14it/s]"
      }
     },
     "496256b62b12408caacda14691351fad": {
      "model_module": "@jupyter-widgets/base",
      "model_module_version": "1.2.0",
      "model_name": "LayoutModel",
      "state": {
       "_model_module": "@jupyter-widgets/base",
       "_model_module_version": "1.2.0",
       "_model_name": "LayoutModel",
       "_view_count": null,
       "_view_module": "@jupyter-widgets/base",
       "_view_module_version": "1.2.0",
       "_view_name": "LayoutView",
       "align_content": null,
       "align_items": null,
       "align_self": null,
       "border": null,
       "bottom": null,
       "display": null,
       "flex": null,
       "flex_flow": null,
       "grid_area": null,
       "grid_auto_columns": null,
       "grid_auto_flow": null,
       "grid_auto_rows": null,
       "grid_column": null,
       "grid_gap": null,
       "grid_row": null,
       "grid_template_areas": null,
       "grid_template_columns": null,
       "grid_template_rows": null,
       "height": null,
       "justify_content": null,
       "justify_items": null,
       "left": null,
       "margin": null,
       "max_height": null,
       "max_width": null,
       "min_height": null,
       "min_width": null,
       "object_fit": null,
       "object_position": null,
       "order": null,
       "overflow": null,
       "overflow_x": null,
       "overflow_y": null,
       "padding": null,
       "right": null,
       "top": null,
       "visibility": null,
       "width": null
      }
     },
     "4b0d91c9de9946558f93b5d2ba1d1c34": {
      "model_module": "@jupyter-widgets/base",
      "model_module_version": "1.2.0",
      "model_name": "LayoutModel",
      "state": {
       "_model_module": "@jupyter-widgets/base",
       "_model_module_version": "1.2.0",
       "_model_name": "LayoutModel",
       "_view_count": null,
       "_view_module": "@jupyter-widgets/base",
       "_view_module_version": "1.2.0",
       "_view_name": "LayoutView",
       "align_content": null,
       "align_items": null,
       "align_self": null,
       "border": null,
       "bottom": null,
       "display": null,
       "flex": null,
       "flex_flow": null,
       "grid_area": null,
       "grid_auto_columns": null,
       "grid_auto_flow": null,
       "grid_auto_rows": null,
       "grid_column": null,
       "grid_gap": null,
       "grid_row": null,
       "grid_template_areas": null,
       "grid_template_columns": null,
       "grid_template_rows": null,
       "height": null,
       "justify_content": null,
       "justify_items": null,
       "left": null,
       "margin": null,
       "max_height": null,
       "max_width": null,
       "min_height": null,
       "min_width": null,
       "object_fit": null,
       "object_position": null,
       "order": null,
       "overflow": null,
       "overflow_x": null,
       "overflow_y": null,
       "padding": null,
       "right": null,
       "top": null,
       "visibility": null,
       "width": null
      }
     },
     "6162d76f84ff44d19a6ce784a2f0ea8d": {
      "model_module": "@jupyter-widgets/controls",
      "model_module_version": "1.5.0",
      "model_name": "DescriptionStyleModel",
      "state": {
       "_model_module": "@jupyter-widgets/controls",
       "_model_module_version": "1.5.0",
       "_model_name": "DescriptionStyleModel",
       "_view_count": null,
       "_view_module": "@jupyter-widgets/base",
       "_view_module_version": "1.2.0",
       "_view_name": "StyleView",
       "description_width": ""
      }
     },
     "62b76f898f69431f8aba643054734134": {
      "model_module": "@jupyter-widgets/controls",
      "model_module_version": "1.5.0",
      "model_name": "HTMLModel",
      "state": {
       "_dom_classes": [],
       "_model_module": "@jupyter-widgets/controls",
       "_model_module_version": "1.5.0",
       "_model_name": "HTMLModel",
       "_view_count": null,
       "_view_module": "@jupyter-widgets/controls",
       "_view_module_version": "1.5.0",
       "_view_name": "HTMLView",
       "description": "",
       "description_tooltip": null,
       "layout": "IPY_MODEL_35ce456b059d4d9392388c5980470390",
       "placeholder": "​",
       "style": "IPY_MODEL_6162d76f84ff44d19a6ce784a2f0ea8d",
       "value": "100%"
      }
     },
     "6f14de4f5e8b4bfdbb3f277a20efe37b": {
      "model_module": "@jupyter-widgets/controls",
      "model_module_version": "1.5.0",
      "model_name": "DescriptionStyleModel",
      "state": {
       "_model_module": "@jupyter-widgets/controls",
       "_model_module_version": "1.5.0",
       "_model_name": "DescriptionStyleModel",
       "_view_count": null,
       "_view_module": "@jupyter-widgets/base",
       "_view_module_version": "1.2.0",
       "_view_name": "StyleView",
       "description_width": ""
      }
     },
     "71fc97735f6042d886fc02a62dc81f8c": {
      "model_module": "@jupyter-widgets/base",
      "model_module_version": "1.2.0",
      "model_name": "LayoutModel",
      "state": {
       "_model_module": "@jupyter-widgets/base",
       "_model_module_version": "1.2.0",
       "_model_name": "LayoutModel",
       "_view_count": null,
       "_view_module": "@jupyter-widgets/base",
       "_view_module_version": "1.2.0",
       "_view_name": "LayoutView",
       "align_content": null,
       "align_items": null,
       "align_self": null,
       "border": null,
       "bottom": null,
       "display": null,
       "flex": null,
       "flex_flow": null,
       "grid_area": null,
       "grid_auto_columns": null,
       "grid_auto_flow": null,
       "grid_auto_rows": null,
       "grid_column": null,
       "grid_gap": null,
       "grid_row": null,
       "grid_template_areas": null,
       "grid_template_columns": null,
       "grid_template_rows": null,
       "height": null,
       "justify_content": null,
       "justify_items": null,
       "left": null,
       "margin": null,
       "max_height": null,
       "max_width": null,
       "min_height": null,
       "min_width": null,
       "object_fit": null,
       "object_position": null,
       "order": null,
       "overflow": null,
       "overflow_x": null,
       "overflow_y": null,
       "padding": null,
       "right": null,
       "top": null,
       "visibility": null,
       "width": null
      }
     },
     "8179b7c3e573444981e66f503a6c5e4b": {
      "model_module": "@jupyter-widgets/base",
      "model_module_version": "1.2.0",
      "model_name": "LayoutModel",
      "state": {
       "_model_module": "@jupyter-widgets/base",
       "_model_module_version": "1.2.0",
       "_model_name": "LayoutModel",
       "_view_count": null,
       "_view_module": "@jupyter-widgets/base",
       "_view_module_version": "1.2.0",
       "_view_name": "LayoutView",
       "align_content": null,
       "align_items": null,
       "align_self": null,
       "border": null,
       "bottom": null,
       "display": null,
       "flex": null,
       "flex_flow": null,
       "grid_area": null,
       "grid_auto_columns": null,
       "grid_auto_flow": null,
       "grid_auto_rows": null,
       "grid_column": null,
       "grid_gap": null,
       "grid_row": null,
       "grid_template_areas": null,
       "grid_template_columns": null,
       "grid_template_rows": null,
       "height": null,
       "justify_content": null,
       "justify_items": null,
       "left": null,
       "margin": null,
       "max_height": null,
       "max_width": null,
       "min_height": null,
       "min_width": null,
       "object_fit": null,
       "object_position": null,
       "order": null,
       "overflow": null,
       "overflow_x": null,
       "overflow_y": null,
       "padding": null,
       "right": null,
       "top": null,
       "visibility": null,
       "width": null
      }
     },
     "8225934d220d41eaa24173e936a6ec0a": {
      "model_module": "@jupyter-widgets/base",
      "model_module_version": "1.2.0",
      "model_name": "LayoutModel",
      "state": {
       "_model_module": "@jupyter-widgets/base",
       "_model_module_version": "1.2.0",
       "_model_name": "LayoutModel",
       "_view_count": null,
       "_view_module": "@jupyter-widgets/base",
       "_view_module_version": "1.2.0",
       "_view_name": "LayoutView",
       "align_content": null,
       "align_items": null,
       "align_self": null,
       "border": null,
       "bottom": null,
       "display": null,
       "flex": null,
       "flex_flow": null,
       "grid_area": null,
       "grid_auto_columns": null,
       "grid_auto_flow": null,
       "grid_auto_rows": null,
       "grid_column": null,
       "grid_gap": null,
       "grid_row": null,
       "grid_template_areas": null,
       "grid_template_columns": null,
       "grid_template_rows": null,
       "height": null,
       "justify_content": null,
       "justify_items": null,
       "left": null,
       "margin": null,
       "max_height": null,
       "max_width": null,
       "min_height": null,
       "min_width": null,
       "object_fit": null,
       "object_position": null,
       "order": null,
       "overflow": null,
       "overflow_x": null,
       "overflow_y": null,
       "padding": null,
       "right": null,
       "top": null,
       "visibility": null,
       "width": null
      }
     },
     "9a598bc9214943e09b07ae505c96144b": {
      "model_module": "@jupyter-widgets/controls",
      "model_module_version": "1.5.0",
      "model_name": "FloatProgressModel",
      "state": {
       "_dom_classes": [],
       "_model_module": "@jupyter-widgets/controls",
       "_model_module_version": "1.5.0",
       "_model_name": "FloatProgressModel",
       "_view_count": null,
       "_view_module": "@jupyter-widgets/controls",
       "_view_module_version": "1.5.0",
       "_view_name": "ProgressView",
       "bar_style": "success",
       "description": "",
       "description_tooltip": null,
       "layout": "IPY_MODEL_0d3ec09549584908882c784c3a0c91bc",
       "max": 3769.0,
       "min": 0.0,
       "orientation": "horizontal",
       "style": "IPY_MODEL_1bd87c5a19864e7ab02ed51a6b87395c",
       "value": 3769.0
      }
     },
     "a3061300aaa3480fb7017b6a7f1ca952": {
      "model_module": "@jupyter-widgets/controls",
      "model_module_version": "1.5.0",
      "model_name": "DescriptionStyleModel",
      "state": {
       "_model_module": "@jupyter-widgets/controls",
       "_model_module_version": "1.5.0",
       "_model_name": "DescriptionStyleModel",
       "_view_count": null,
       "_view_module": "@jupyter-widgets/base",
       "_view_module_version": "1.2.0",
       "_view_name": "StyleView",
       "description_width": ""
      }
     },
     "acc314e2a1c246c586ce21f03024efe8": {
      "model_module": "@jupyter-widgets/controls",
      "model_module_version": "1.5.0",
      "model_name": "ProgressStyleModel",
      "state": {
       "_model_module": "@jupyter-widgets/controls",
       "_model_module_version": "1.5.0",
       "_model_name": "ProgressStyleModel",
       "_view_count": null,
       "_view_module": "@jupyter-widgets/base",
       "_view_module_version": "1.2.0",
       "_view_name": "StyleView",
       "bar_color": null,
       "description_width": ""
      }
     },
     "b2baa6dad404489e86a7fd88d4d83810": {
      "model_module": "@jupyter-widgets/controls",
      "model_module_version": "1.5.0",
      "model_name": "FloatProgressModel",
      "state": {
       "_dom_classes": [],
       "_model_module": "@jupyter-widgets/controls",
       "_model_module_version": "1.5.0",
       "_model_name": "FloatProgressModel",
       "_view_count": null,
       "_view_module": "@jupyter-widgets/controls",
       "_view_module_version": "1.5.0",
       "_view_name": "ProgressView",
       "bar_style": "success",
       "description": "",
       "description_tooltip": null,
       "layout": "IPY_MODEL_151f9b58730344eb88f08ae0e05ed3c7",
       "max": 3769.0,
       "min": 0.0,
       "orientation": "horizontal",
       "style": "IPY_MODEL_acc314e2a1c246c586ce21f03024efe8",
       "value": 3769.0
      }
     },
     "ba56497c81484026933100d283b296d7": {
      "model_module": "@jupyter-widgets/controls",
      "model_module_version": "1.5.0",
      "model_name": "HBoxModel",
      "state": {
       "_dom_classes": [],
       "_model_module": "@jupyter-widgets/controls",
       "_model_module_version": "1.5.0",
       "_model_name": "HBoxModel",
       "_view_count": null,
       "_view_module": "@jupyter-widgets/controls",
       "_view_module_version": "1.5.0",
       "_view_name": "HBoxView",
       "box_style": "",
       "children": [
        "IPY_MODEL_139caacc98764ae0ae4ce532740f476e",
        "IPY_MODEL_9a598bc9214943e09b07ae505c96144b",
        "IPY_MODEL_494d569b75fa41aebbc7269f5c1d63fa"
       ],
       "layout": "IPY_MODEL_4b0d91c9de9946558f93b5d2ba1d1c34"
      }
     },
     "c28de5db4a5c45878fa3c52eb203114c": {
      "model_module": "@jupyter-widgets/controls",
      "model_module_version": "1.5.0",
      "model_name": "ProgressStyleModel",
      "state": {
       "_model_module": "@jupyter-widgets/controls",
       "_model_module_version": "1.5.0",
       "_model_name": "ProgressStyleModel",
       "_view_count": null,
       "_view_module": "@jupyter-widgets/base",
       "_view_module_version": "1.2.0",
       "_view_name": "StyleView",
       "bar_color": null,
       "description_width": ""
      }
     },
     "cd9aec411ea44f959e4fdb87bff82c6d": {
      "model_module": "@jupyter-widgets/base",
      "model_module_version": "1.2.0",
      "model_name": "LayoutModel",
      "state": {
       "_model_module": "@jupyter-widgets/base",
       "_model_module_version": "1.2.0",
       "_model_name": "LayoutModel",
       "_view_count": null,
       "_view_module": "@jupyter-widgets/base",
       "_view_module_version": "1.2.0",
       "_view_name": "LayoutView",
       "align_content": null,
       "align_items": null,
       "align_self": null,
       "border": null,
       "bottom": null,
       "display": null,
       "flex": null,
       "flex_flow": null,
       "grid_area": null,
       "grid_auto_columns": null,
       "grid_auto_flow": null,
       "grid_auto_rows": null,
       "grid_column": null,
       "grid_gap": null,
       "grid_row": null,
       "grid_template_areas": null,
       "grid_template_columns": null,
       "grid_template_rows": null,
       "height": null,
       "justify_content": null,
       "justify_items": null,
       "left": null,
       "margin": null,
       "max_height": null,
       "max_width": null,
       "min_height": null,
       "min_width": null,
       "object_fit": null,
       "object_position": null,
       "order": null,
       "overflow": null,
       "overflow_x": null,
       "overflow_y": null,
       "padding": null,
       "right": null,
       "top": null,
       "visibility": null,
       "width": null
      }
     },
     "de0494e74bb244a0b7e25099860ff190": {
      "model_module": "@jupyter-widgets/controls",
      "model_module_version": "1.5.0",
      "model_name": "DescriptionStyleModel",
      "state": {
       "_model_module": "@jupyter-widgets/controls",
       "_model_module_version": "1.5.0",
       "_model_name": "DescriptionStyleModel",
       "_view_count": null,
       "_view_module": "@jupyter-widgets/base",
       "_view_module_version": "1.2.0",
       "_view_name": "StyleView",
       "description_width": ""
      }
     },
     "e392989b3b4247da812d3797c672f9b6": {
      "model_module": "@jupyter-widgets/controls",
      "model_module_version": "1.5.0",
      "model_name": "DescriptionStyleModel",
      "state": {
       "_model_module": "@jupyter-widgets/controls",
       "_model_module_version": "1.5.0",
       "_model_name": "DescriptionStyleModel",
       "_view_count": null,
       "_view_module": "@jupyter-widgets/base",
       "_view_module_version": "1.2.0",
       "_view_name": "StyleView",
       "description_width": ""
      }
     },
     "e9eaf26d7f41453ab97291a0832d3e67": {
      "model_module": "@jupyter-widgets/controls",
      "model_module_version": "1.5.0",
      "model_name": "HBoxModel",
      "state": {
       "_dom_classes": [],
       "_model_module": "@jupyter-widgets/controls",
       "_model_module_version": "1.5.0",
       "_model_name": "HBoxModel",
       "_view_count": null,
       "_view_module": "@jupyter-widgets/controls",
       "_view_module_version": "1.5.0",
       "_view_name": "HBoxView",
       "box_style": "",
       "children": [
        "IPY_MODEL_eaabf254d8a94989868ae5689effa30a",
        "IPY_MODEL_2decfc7470414bd2b0c00ca2e14967ef",
        "IPY_MODEL_0b2e10d148e347799696eb8d54ab480e"
       ],
       "layout": "IPY_MODEL_12c1daf861644599bda9a4c2f3057cb1"
      }
     },
     "eaabf254d8a94989868ae5689effa30a": {
      "model_module": "@jupyter-widgets/controls",
      "model_module_version": "1.5.0",
      "model_name": "HTMLModel",
      "state": {
       "_dom_classes": [],
       "_model_module": "@jupyter-widgets/controls",
       "_model_module_version": "1.5.0",
       "_model_name": "HTMLModel",
       "_view_count": null,
       "_view_module": "@jupyter-widgets/controls",
       "_view_module_version": "1.5.0",
       "_view_name": "HTMLView",
       "description": "",
       "description_tooltip": null,
       "layout": "IPY_MODEL_71fc97735f6042d886fc02a62dc81f8c",
       "placeholder": "​",
       "style": "IPY_MODEL_a3061300aaa3480fb7017b6a7f1ca952",
       "value": "100%"
      }
     }
    },
    "version_major": 2,
    "version_minor": 0
   }
  }
 },
 "nbformat": 4,
 "nbformat_minor": 2
}
