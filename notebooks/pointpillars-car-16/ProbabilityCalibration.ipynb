{
 "cells": [
  {
   "cell_type": "code",
   "execution_count": 1,
   "metadata": {
    "execution": {
     "iopub.execute_input": "2022-01-06T11:32:29.901923Z",
     "iopub.status.busy": "2022-01-06T11:32:29.901590Z",
     "iopub.status.idle": "2022-01-06T11:32:30.197279Z",
     "shell.execute_reply": "2022-01-06T11:32:30.195423Z"
    }
   },
   "outputs": [
    {
     "name": "stdout",
     "output_type": "stream",
     "text": [
      "/home/yoshio/git/second.pytorch\n",
      "/home/yoshio/git/second.pytorch\r\n"
     ]
    }
   ],
   "source": [
    "%cd ../\n",
    "!pwd"
   ]
  },
  {
   "cell_type": "code",
   "execution_count": 2,
   "metadata": {
    "execution": {
     "iopub.execute_input": "2022-01-06T11:32:30.206408Z",
     "iopub.status.busy": "2022-01-06T11:32:30.206102Z",
     "iopub.status.idle": "2022-01-06T11:32:30.944016Z",
     "shell.execute_reply": "2022-01-06T11:32:30.943726Z"
    }
   },
   "outputs": [],
   "source": [
    "import os\n",
    "import pickle\n",
    "from pathlib import Path\n",
    "import re\n",
    "from functools import partial\n",
    "import json\n",
    "\n",
    "import numpy as np\n",
    "from scipy.special import logit, expit\n",
    "from sklearn.model_selection import KFold\n",
    "from sklearn.metrics import brier_score_loss, precision_score\n",
    "from sklearn.calibration import calibration_curve\n",
    "from sklearn.linear_model import LogisticRegression\n",
    "from sklearn.isotonic import IsotonicRegression\n",
    "import matplotlib.pyplot as plt\n",
    "from tqdm.notebook import tqdm\n",
    "import pandas as pd\n",
    "import torch\n",
    "\n",
    "plt.rcParams['font.family'] = 'Times New Roman' # 全体のフォント\n",
    "plt.rcParams['font.size'] = 20                  # フォントサイズ"
   ]
  },
  {
   "cell_type": "code",
   "execution_count": 3,
   "metadata": {
    "execution": {
     "iopub.execute_input": "2022-01-06T11:32:30.947350Z",
     "iopub.status.busy": "2022-01-06T11:32:30.947054Z",
     "iopub.status.idle": "2022-01-06T11:32:30.948766Z",
     "shell.execute_reply": "2022-01-06T11:32:30.948469Z"
    }
   },
   "outputs": [],
   "source": [
    "def expected_calibration_error(y_true, y_prob, n_bins):\n",
    "    bins = np.linspace(0., 1., n_bins + 1, endpoint=True)\n",
    "    binids = np.digitize(y_prob, bins) - 1\n",
    "    bin_sums = np.bincount(binids, weights=y_prob, minlength=len(bins))\n",
    "    bin_true = np.bincount(binids, weights=y_true, minlength=len(bins))\n",
    "    bin_total = np.bincount(binids, minlength=len(bins))\n",
    "\n",
    "    nonzero = bin_total != 0\n",
    "    acc = bin_true[nonzero] / bin_total[nonzero]\n",
    "    conf = bin_sums[nonzero] / bin_total[nonzero]\n",
    "    return np.sum(np.abs(acc - conf) * bin_total[nonzero]) / bin_total.sum()"
   ]
  },
  {
   "cell_type": "code",
   "execution_count": 4,
   "metadata": {
    "execution": {
     "iopub.execute_input": "2022-01-06T11:32:30.952280Z",
     "iopub.status.busy": "2022-01-06T11:32:30.951980Z",
     "iopub.status.idle": "2022-01-06T11:32:30.954079Z",
     "shell.execute_reply": "2022-01-06T11:32:30.953764Z"
    }
   },
   "outputs": [
    {
     "name": "stdout",
     "output_type": "stream",
     "text": [
      "/hdd/kitti/kitti_infos_val.pkl pointpillars/car/xyres_16.config pointpillars-car-16\n",
      "latest step: 296960\n"
     ]
    }
   ],
   "source": [
    "KITTI_INFO = Path(os.environ.get(\"KITTI_INFO\", \"/hdd/kitti/kitti_infos_val.pkl\"))\n",
    "CONF = os.environ.get(\"CONF\", \"pointpillars/car/xyres_16-onecycle.config\")\n",
    "MODEL = os.environ.get(\"MODEL\", \"pointpillars-car-16-onecycle\")\n",
    "print(KITTI_INFO, CONF, MODEL)\n",
    "\n",
    "MODEL_DIR = Path(f\"./model/{MODEL}\")\n",
    "checkpoint_json = json.loads((MODEL_DIR / \"checkpoints.json\").read_text())\n",
    "GSTEP = int(re.search(r\"voxelnet-(\\d+)\\.tckpt\", checkpoint_json[\"latest_ckpt\"][\"voxelnet\"]).group(1))\n",
    "print(\"latest step:\", GSTEP)\n",
    "\n",
    "DATA = Path(f\"./model/{MODEL}/eval_results/step_{GSTEP}/result_kitti.pkl\")\n",
    "MODEL_WEIGHT = MODEL_DIR / f\"voxelnet-{GSTEP}.tckpt\""
   ]
  },
  {
   "cell_type": "code",
   "execution_count": 5,
   "metadata": {
    "execution": {
     "iopub.execute_input": "2022-01-06T11:32:30.956292Z",
     "iopub.status.busy": "2022-01-06T11:32:30.956000Z",
     "iopub.status.idle": "2022-01-06T11:32:31.162888Z",
     "shell.execute_reply": "2022-01-06T11:32:31.162574Z"
    }
   },
   "outputs": [],
   "source": [
    "with KITTI_INFO.open(\"rb\") as f:\n",
    "    gts = pickle.load(f)\n",
    "\n",
    "with DATA.open(\"rb\") as f:\n",
    "    dets = pickle.load(f)"
   ]
  },
  {
   "cell_type": "markdown",
   "metadata": {},
   "source": [
    "## KITTI Dataset Car difficulty:2 3DIoU@0.70"
   ]
  },
  {
   "cell_type": "code",
   "execution_count": 6,
   "metadata": {
    "execution": {
     "iopub.execute_input": "2022-01-06T11:32:31.165697Z",
     "iopub.status.busy": "2022-01-06T11:32:31.165399Z",
     "iopub.status.idle": "2022-01-06T11:32:31.204345Z",
     "shell.execute_reply": "2022-01-06T11:32:31.204575Z"
    }
   },
   "outputs": [
    {
     "data": {
      "application/vnd.jupyter.widget-view+json": {
       "model_id": "6b09924e77bd4dc2834ff2f5b9e2bfb3",
       "version_major": 2,
       "version_minor": 0
      },
      "text/plain": [
       "  0%|          | 0/3769 [00:00<?, ?it/s]"
      ]
     },
     "metadata": {},
     "output_type": "display_data"
    }
   ],
   "source": [
    "y_true_li = []\n",
    "y_pred_li = []\n",
    "\n",
    "for det in tqdm(dets):\n",
    "    result = det[\"official/3d_0.70/2/bin\"]\n",
    "    mask = result != 0 # remove 'ignore' detections\n",
    "    y_true_li.append(np.where(result[mask] == 1, 1, 0))\n",
    "    y_pred_li.append(det[\"score\"][mask])\n",
    "\n",
    "y_true = np.concatenate(y_true_li)\n",
    "y_pred = np.concatenate(y_pred_li)"
   ]
  },
  {
   "cell_type": "code",
   "execution_count": 7,
   "metadata": {
    "execution": {
     "iopub.execute_input": "2022-01-06T11:32:31.215972Z",
     "iopub.status.busy": "2022-01-06T11:32:31.215671Z",
     "iopub.status.idle": "2022-01-06T11:32:31.376122Z",
     "shell.execute_reply": "2022-01-06T11:32:31.375816Z"
    }
   },
   "outputs": [
    {
     "data": {
      "image/png": "[encoded data removed]",
      "text/plain": [
       "<Figure size 864x432 with 2 Axes>"
      ]
     },
     "metadata": {
      "needs_background": "light"
     },
     "output_type": "display_data"
    }
   ],
   "source": [
    "def show_calibration(y_true, y_pred, n_bins=15):\n",
    "    plt.figure(figsize=(12, 6))\n",
    "    plt.suptitle(\"KITTI Dataset Car difficulty:2 3DIoU@0.70\")\n",
    "    plt.subplot(1,2,1)\n",
    "    plt.title(\"Raw predicted value\")\n",
    "    plt.hist(y_pred, range=(0, 1), bins=n_bins)\n",
    "    plt.xlabel(\"Predicted value\")\n",
    "    plt.ylabel(\"Count\")\n",
    "    \n",
    "    plt.subplot(1,2,2)\n",
    "    prob_true, prob_pred = calibration_curve(y_true, y_pred, n_bins=n_bins)\n",
    "    ece = expected_calibration_error(y_true, y_pred, n_bins=n_bins)\n",
    "    plt.title(\"Raw Calibration plots\")\n",
    "    plt.plot(prob_pred, prob_true, \"bs-\", label=\"ECE=%.3f\"%ece)\n",
    "    plt.xlim(-0.05, 1.05)\n",
    "    plt.xlabel(\"Mean predicted value\")\n",
    "    plt.ylabel(\"Fraction of positives\")\n",
    "    plt.legend()\n",
    "    \n",
    "    plt.plot([0,1], [0,1], \"k--\")\n",
    "    plt.show()\n",
    "\n",
    "show_calibration(y_true, y_pred)"
   ]
  },
  {
   "cell_type": "markdown",
   "metadata": {},
   "source": [
    "This is over-confident."
   ]
  },
  {
   "cell_type": "code",
   "execution_count": 8,
   "metadata": {
    "execution": {
     "iopub.execute_input": "2022-01-06T11:32:31.379350Z",
     "iopub.status.busy": "2022-01-06T11:32:31.379055Z",
     "iopub.status.idle": "2022-01-06T11:32:31.461841Z",
     "shell.execute_reply": "2022-01-06T11:32:31.461589Z"
    }
   },
   "outputs": [
    {
     "data": {
      "image/png": "[encoded data removed]",
      "text/plain": [
       "<Figure size 432x432 with 1 Axes>"
      ]
     },
     "metadata": {
      "needs_background": "light"
     },
     "output_type": "display_data"
    }
   ],
   "source": [
    "plt.figure(figsize=(6, 6))\n",
    "prob_true, prob_pred = calibration_curve(y_true, y_pred, n_bins=15)\n",
    "ece = expected_calibration_error(y_true, y_pred, n_bins=15)\n",
    "plt.plot(prob_pred, prob_true, \"bs-\", label=\"ECE=%.3f\"%ece)\n",
    "plt.xlim(-0.05, 1.05)\n",
    "plt.xlabel(\"Mean predicted value\")\n",
    "plt.ylabel(\"Fraction of positives\")\n",
    "plt.legend()\n",
    "\n",
    "plt.plot([0,1], [0,1], \"k--\")\n",
    "plt.show()"
   ]
  },
  {
   "cell_type": "markdown",
   "metadata": {},
   "source": [
    "### Calibration\n",
    "\n",
    "10-fold CVによってProbabilistic Calibrationを施し、Out-of-Foldでの性能を比較する"
   ]
  },
  {
   "cell_type": "code",
   "execution_count": 9,
   "metadata": {
    "execution": {
     "iopub.execute_input": "2022-01-06T11:32:31.471793Z",
     "iopub.status.busy": "2022-01-06T11:32:31.471350Z",
     "iopub.status.idle": "2022-01-06T11:32:32.603139Z",
     "shell.execute_reply": "2022-01-06T11:32:32.603439Z"
    }
   },
   "outputs": [
    {
     "data": {
      "image/png": "[encoded data removed]",
      "text/plain": [
       "<Figure size 504x504 with 1 Axes>"
      ]
     },
     "metadata": {
      "needs_background": "light"
     },
     "output_type": "display_data"
    }
   ],
   "source": [
    "CV = 10\n",
    "\n",
    "models = {\n",
    "    \"Platt\": LogisticRegression(random_state=0),\n",
    "    \"temp.\": LogisticRegression(random_state=0, fit_intercept=False),\n",
    "    \"isotonic\": IsotonicRegression(y_min=0, y_max=1, out_of_bounds=\"clip\"),\n",
    "}\n",
    "calibed_pred = {\n",
    "    \"Platt\": [],\n",
    "    \"temp.\": [],\n",
    "    \"isotonic\": [],\n",
    "}\n",
    "calibed_true = []\n",
    "\n",
    "kf = KFold(CV, shuffle=False)\n",
    "X = np.array([logit(x) for x in y_pred_li], dtype=object)\n",
    "y = np.array(y_true_li, dtype=object)\n",
    "for train_idx, val_idx in kf.split(X, y):\n",
    "    X_train, X_val = np.concatenate(X[train_idx]).reshape(-1,1), np.concatenate(X[val_idx]).reshape(-1,1)\n",
    "    y_train, y_val = np.concatenate(y[train_idx]), np.concatenate(y[val_idx])\n",
    "    calibed_true.append(y_val)\n",
    "    for key, m in models.items():\n",
    "        if key == \"isotonic\":\n",
    "            inst = m.fit(expit(X_train), y_train)\n",
    "            calibed_pred[key].append(inst.predict(expit(X_val)))\n",
    "        else:\n",
    "            inst = m.fit(X_train, y_train)\n",
    "            calibed_pred[key].append(inst.predict_proba(X_val)[:,1])\n",
    "\n",
    "calibed_true = np.concatenate(calibed_true)\n",
    "calibed_pred = {key: np.concatenate(value) for key, value in calibed_pred.items()}\n",
    "\n",
    "# show\n",
    "plt.figure(figsize=(7, 7))\n",
    "plt.title(\"Calibration curve (ECE)\")\n",
    "prob_true, prob_pred = calibration_curve(y_true, y_pred, n_bins=15)\n",
    "ece = expected_calibration_error(y_true, y_pred, n_bins=15)\n",
    "plt.plot(prob_pred, prob_true, \"s-\", label=\"raw (%.3f)\"%ece)\n",
    "\n",
    "for key, value in calibed_pred.items():\n",
    "    prob_true, prob_pred = calibration_curve(calibed_true, value, n_bins=15)\n",
    "    ece = expected_calibration_error(calibed_true, value, n_bins=15)\n",
    "    plt.plot(prob_pred, prob_true, \"s-\", label=\"%s (%.3f)\"%(key,ece))\n",
    "\n",
    "plt.xlim(-0.05, 1.05)\n",
    "plt.xlabel(\"Mean predicted value\")\n",
    "plt.ylabel(\"Fraction of positives\")\n",
    "plt.legend()\n",
    "\n",
    "plt.plot([0,1], [0,1], \"k--\")\n",
    "plt.show()"
   ]
  },
  {
   "cell_type": "code",
   "execution_count": 10,
   "metadata": {
    "execution": {
     "iopub.execute_input": "2022-01-06T11:32:32.604834Z",
     "iopub.status.busy": "2022-01-06T11:32:32.604530Z",
     "iopub.status.idle": "2022-01-06T11:32:32.747561Z",
     "shell.execute_reply": "2022-01-06T11:32:32.747256Z"
    }
   },
   "outputs": [
    {
     "data": {
      "image/png": "[encoded data removed]",
      "text/plain": [
       "<Figure size 864x360 with 2 Axes>"
      ]
     },
     "metadata": {
      "needs_background": "light"
     },
     "output_type": "display_data"
    }
   ],
   "source": [
    "fig, ax = plt.subplots(1, 2, sharey=True, figsize=(12, 5))\n",
    "ax[0].set_title(\"Platt scaled predicted value\")\n",
    "ax[0].hist(calibed_pred[\"Platt\"], range=(0, 1), bins=15, color=\"orange\")\n",
    "ax[0].set_xlabel(\"Predicted value\")\n",
    "ax[0].set_ylabel(\"Count\")\n",
    "\n",
    "ax[1].set_title(\"Isotonic regressed predicted value\")\n",
    "ax[1].hist(calibed_pred[\"isotonic\"], range=(0, 1), bins=15, color=\"red\")\n",
    "ax[1].set_xlabel(\"Predicted value\")\n",
    "ax[1].set_ylabel(\"Count\")\n",
    "\n",
    "\n",
    "plt.show()"
   ]
  },
  {
   "cell_type": "code",
   "execution_count": 11,
   "metadata": {
    "execution": {
     "iopub.execute_input": "2022-01-06T11:32:32.750041Z",
     "iopub.status.busy": "2022-01-06T11:32:32.749746Z",
     "iopub.status.idle": "2022-01-06T11:32:32.758999Z",
     "shell.execute_reply": "2022-01-06T11:32:32.759229Z"
    }
   },
   "outputs": [
    {
     "data": {
      "text/html": [
       "<div>\n",
       "<style scoped>\n",
       "    .dataframe tbody tr th:only-of-type {\n",
       "        vertical-align: middle;\n",
       "    }\n",
       "\n",
       "    .dataframe tbody tr th {\n",
       "        vertical-align: top;\n",
       "    }\n",
       "\n",
       "    .dataframe thead th {\n",
       "        text-align: right;\n",
       "    }\n",
       "</style>\n",
       "<table border=\"1\" class=\"dataframe\">\n",
       "  <thead>\n",
       "    <tr style=\"text-align: right;\">\n",
       "      <th></th>\n",
       "      <th>ECE</th>\n",
       "    </tr>\n",
       "    <tr>\n",
       "      <th>method</th>\n",
       "      <th></th>\n",
       "    </tr>\n",
       "  </thead>\n",
       "  <tbody>\n",
       "    <tr>\n",
       "      <th>(Raw)</th>\n",
       "      <td>0.096762</td>\n",
       "    </tr>\n",
       "    <tr>\n",
       "      <th>Platt scaling</th>\n",
       "      <td>0.003715</td>\n",
       "    </tr>\n",
       "    <tr>\n",
       "      <th>IsotonicRegression</th>\n",
       "      <td>0.001209</td>\n",
       "    </tr>\n",
       "  </tbody>\n",
       "</table>\n",
       "</div>"
      ],
      "text/plain": [
       "                         ECE\n",
       "method                      \n",
       "(Raw)               0.096762\n",
       "Platt scaling       0.003715\n",
       "IsotonicRegression  0.001209"
      ]
     },
     "execution_count": 1,
     "metadata": {},
     "output_type": "execute_result"
    }
   ],
   "source": [
    "df = pd.DataFrame({\n",
    "    \"method\": [\"(Raw)\", \"Platt scaling\", \"IsotonicRegression\"],\n",
    "    \"ECE\": [expected_calibration_error(y_true, y_pred, 15), expected_calibration_error(calibed_true, calibed_pred[\"Platt\"], 15), expected_calibration_error(calibed_true, calibed_pred[\"isotonic\"], 15)],\n",
    "})\n",
    "\n",
    "df.set_index(\"method\")"
   ]
  },
  {
   "cell_type": "markdown",
   "metadata": {},
   "source": [
    "# Build A Calibrated Model"
   ]
  },
  {
   "cell_type": "code",
   "execution_count": 12,
   "metadata": {
    "execution": {
     "iopub.execute_input": "2022-01-06T11:32:32.761212Z",
     "iopub.status.busy": "2022-01-06T11:32:32.760927Z",
     "iopub.status.idle": "2022-01-06T11:32:34.041065Z",
     "shell.execute_reply": "2022-01-06T11:32:34.041326Z"
    }
   },
   "outputs": [
    {
     "data": {
      "text/plain": [
       "odict_keys(['global_step', 'voxel_feature_extractor.pfn_layers.0.linear.weight', 'voxel_feature_extractor.pfn_layers.0.norm.weight', 'voxel_feature_extractor.pfn_layers.0.norm.bias', 'voxel_feature_extractor.pfn_layers.0.norm.running_mean', 'voxel_feature_extractor.pfn_layers.0.norm.running_var', 'voxel_feature_extractor.pfn_layers.0.norm.num_batches_tracked', 'rpn.blocks.0.1.weight', 'rpn.blocks.0.2.weight', 'rpn.blocks.0.2.bias', 'rpn.blocks.0.2.running_mean', 'rpn.blocks.0.2.running_var', 'rpn.blocks.0.2.num_batches_tracked', 'rpn.blocks.0.4.weight', 'rpn.blocks.0.5.weight', 'rpn.blocks.0.5.bias', 'rpn.blocks.0.5.running_mean', 'rpn.blocks.0.5.running_var', 'rpn.blocks.0.5.num_batches_tracked', 'rpn.blocks.0.7.weight', 'rpn.blocks.0.8.weight', 'rpn.blocks.0.8.bias', 'rpn.blocks.0.8.running_mean', 'rpn.blocks.0.8.running_var', 'rpn.blocks.0.8.num_batches_tracked', 'rpn.blocks.0.10.weight', 'rpn.blocks.0.11.weight', 'rpn.blocks.0.11.bias', 'rpn.blocks.0.11.running_mean', 'rpn.blocks.0.11.running_var', 'rpn.blocks.0.11.num_batches_tracked', 'rpn.blocks.1.1.weight', 'rpn.blocks.1.2.weight', 'rpn.blocks.1.2.bias', 'rpn.blocks.1.2.running_mean', 'rpn.blocks.1.2.running_var', 'rpn.blocks.1.2.num_batches_tracked', 'rpn.blocks.1.4.weight', 'rpn.blocks.1.5.weight', 'rpn.blocks.1.5.bias', 'rpn.blocks.1.5.running_mean', 'rpn.blocks.1.5.running_var', 'rpn.blocks.1.5.num_batches_tracked', 'rpn.blocks.1.7.weight', 'rpn.blocks.1.8.weight', 'rpn.blocks.1.8.bias', 'rpn.blocks.1.8.running_mean', 'rpn.blocks.1.8.running_var', 'rpn.blocks.1.8.num_batches_tracked', 'rpn.blocks.1.10.weight', 'rpn.blocks.1.11.weight', 'rpn.blocks.1.11.bias', 'rpn.blocks.1.11.running_mean', 'rpn.blocks.1.11.running_var', 'rpn.blocks.1.11.num_batches_tracked', 'rpn.blocks.1.13.weight', 'rpn.blocks.1.14.weight', 'rpn.blocks.1.14.bias', 'rpn.blocks.1.14.running_mean', 'rpn.blocks.1.14.running_var', 'rpn.blocks.1.14.num_batches_tracked', 'rpn.blocks.1.16.weight', 'rpn.blocks.1.17.weight', 'rpn.blocks.1.17.bias', 'rpn.blocks.1.17.running_mean', 'rpn.blocks.1.17.running_var', 'rpn.blocks.1.17.num_batches_tracked', 'rpn.blocks.2.1.weight', 'rpn.blocks.2.2.weight', 'rpn.blocks.2.2.bias', 'rpn.blocks.2.2.running_mean', 'rpn.blocks.2.2.running_var', 'rpn.blocks.2.2.num_batches_tracked', 'rpn.blocks.2.4.weight', 'rpn.blocks.2.5.weight', 'rpn.blocks.2.5.bias', 'rpn.blocks.2.5.running_mean', 'rpn.blocks.2.5.running_var', 'rpn.blocks.2.5.num_batches_tracked', 'rpn.blocks.2.7.weight', 'rpn.blocks.2.8.weight', 'rpn.blocks.2.8.bias', 'rpn.blocks.2.8.running_mean', 'rpn.blocks.2.8.running_var', 'rpn.blocks.2.8.num_batches_tracked', 'rpn.blocks.2.10.weight', 'rpn.blocks.2.11.weight', 'rpn.blocks.2.11.bias', 'rpn.blocks.2.11.running_mean', 'rpn.blocks.2.11.running_var', 'rpn.blocks.2.11.num_batches_tracked', 'rpn.blocks.2.13.weight', 'rpn.blocks.2.14.weight', 'rpn.blocks.2.14.bias', 'rpn.blocks.2.14.running_mean', 'rpn.blocks.2.14.running_var', 'rpn.blocks.2.14.num_batches_tracked', 'rpn.blocks.2.16.weight', 'rpn.blocks.2.17.weight', 'rpn.blocks.2.17.bias', 'rpn.blocks.2.17.running_mean', 'rpn.blocks.2.17.running_var', 'rpn.blocks.2.17.num_batches_tracked', 'rpn.deblocks.0.0.weight', 'rpn.deblocks.0.1.weight', 'rpn.deblocks.0.1.bias', 'rpn.deblocks.0.1.running_mean', 'rpn.deblocks.0.1.running_var', 'rpn.deblocks.0.1.num_batches_tracked', 'rpn.deblocks.1.0.weight', 'rpn.deblocks.1.1.weight', 'rpn.deblocks.1.1.bias', 'rpn.deblocks.1.1.running_mean', 'rpn.deblocks.1.1.running_var', 'rpn.deblocks.1.1.num_batches_tracked', 'rpn.deblocks.2.0.weight', 'rpn.deblocks.2.1.weight', 'rpn.deblocks.2.1.bias', 'rpn.deblocks.2.1.running_mean', 'rpn.deblocks.2.1.running_var', 'rpn.deblocks.2.1.num_batches_tracked', 'rpn.conv_cls.weight', 'rpn.conv_cls.bias', 'rpn.conv_box.weight', 'rpn.conv_box.bias', 'rpn.conv_dir_cls.weight', 'rpn.conv_dir_cls.bias', 'rpn_acc.total', 'rpn_acc.count', 'rpn_precision.total', 'rpn_precision.count', 'rpn_recall.total', 'rpn_recall.count', 'rpn_metrics.prec_total', 'rpn_metrics.prec_count', 'rpn_metrics.rec_total', 'rpn_metrics.rec_count', 'rpn_cls_loss.total', 'rpn_cls_loss.count', 'rpn_loc_loss.total', 'rpn_loc_loss.count', 'rpn_total_loss.total', 'rpn_total_loss.count'])"
      ]
     },
     "execution_count": 1,
     "metadata": {},
     "output_type": "execute_result"
    }
   ],
   "source": [
    "# method: Platt scaling\n",
    "\n",
    "weight = torch.load(MODEL_WEIGHT)\n",
    "weight.keys()"
   ]
  },
  {
   "cell_type": "code",
   "execution_count": 13,
   "metadata": {
    "execution": {
     "iopub.execute_input": "2022-01-06T11:32:34.043848Z",
     "iopub.status.busy": "2022-01-06T11:32:34.043494Z",
     "iopub.status.idle": "2022-01-06T11:32:34.045267Z",
     "shell.execute_reply": "2022-01-06T11:32:34.045496Z"
    }
   },
   "outputs": [
    {
     "data": {
      "text/plain": [
       "(torch.Size([2, 384, 1, 1]), torch.Size([2]))"
      ]
     },
     "execution_count": 1,
     "metadata": {},
     "output_type": "execute_result"
    }
   ],
   "source": [
    "weight[\"rpn.conv_cls.weight\"].shape, weight[\"rpn.conv_cls.bias\"].shape"
   ]
  },
  {
   "cell_type": "code",
   "execution_count": 14,
   "metadata": {
    "execution": {
     "iopub.execute_input": "2022-01-06T11:32:34.049408Z",
     "iopub.status.busy": "2022-01-06T11:32:34.049102Z",
     "iopub.status.idle": "2022-01-06T11:32:34.201091Z",
     "shell.execute_reply": "2022-01-06T11:32:34.201393Z"
    }
   },
   "outputs": [
    {
     "data": {
      "image/png": "[encoded data removed]",
      "text/plain": [
       "<Figure size 432x432 with 1 Axes>"
      ]
     },
     "metadata": {
      "needs_background": "light"
     },
     "output_type": "display_data"
    }
   ],
   "source": [
    "plt.figure(figsize=(6,6))\n",
    "platt = LogisticRegression(random_state=0).fit(logit(y_pred).reshape(-1, 1), y_true)\n",
    "yc_pred = platt.predict_proba(logit(y_pred).reshape(-1, 1))[:,1]\n",
    "\n",
    "prob_true, prob_pred = calibration_curve(y_true, y_pred, n_bins=15)\n",
    "ece = expected_calibration_error(y_true, y_pred, n_bins=15)\n",
    "plt.plot(prob_pred, prob_true, \"s-\", label=\"Raw (ECE=%.3f)\"%ece)\n",
    "\n",
    "prob_true, prob_pred = calibration_curve(y_true, yc_pred, n_bins=15)\n",
    "ece = expected_calibration_error(y_true, yc_pred, n_bins=15)\n",
    "plt.plot(prob_pred, prob_true, \"s-\", label=\"%s (ECE=%.3f)\"%(\"platt\",ece))\n",
    "\n",
    "plt.xlim(-0.05, 1.05)\n",
    "plt.xlabel(\"Mean predicted value\")\n",
    "plt.ylabel(\"Fraction of positives\")\n",
    "plt.legend()\n",
    "\n",
    "plt.plot([0,1], [0,1], \"k--\")\n",
    "plt.show()"
   ]
  },
  {
   "cell_type": "code",
   "execution_count": 15,
   "metadata": {
    "execution": {
     "iopub.execute_input": "2022-01-06T11:32:34.202722Z",
     "iopub.status.busy": "2022-01-06T11:32:34.202425Z",
     "iopub.status.idle": "2022-01-06T11:32:34.204967Z",
     "shell.execute_reply": "2022-01-06T11:32:34.205262Z"
    }
   },
   "outputs": [
    {
     "data": {
      "text/plain": [
       "(1.8141954244091023, -2.0996922642422917)"
      ]
     },
     "execution_count": 1,
     "metadata": {},
     "output_type": "execute_result"
    }
   ],
   "source": [
    "platt.coef_.item(), platt.intercept_.item()"
   ]
  },
  {
   "cell_type": "code",
   "execution_count": 16,
   "metadata": {
    "execution": {
     "iopub.execute_input": "2022-01-06T11:32:34.206576Z",
     "iopub.status.busy": "2022-01-06T11:32:34.206264Z",
     "iopub.status.idle": "2022-01-06T11:32:34.288185Z",
     "shell.execute_reply": "2022-01-06T11:32:34.288464Z"
    }
   },
   "outputs": [],
   "source": [
    "OUTPUT_DIR = MODEL_DIR / \"calibrated\"\n",
    "OUTPUT_DIR.mkdir(exist_ok=True)\n",
    "\n",
    "weight = torch.load(MODEL_WEIGHT, map_location=\"cpu\")\n",
    "\n",
    "cW = np.array([1.0, platt.coef_.item()])\n",
    "cb = np.array([0.0, platt.intercept_.item()])\n",
    "\n",
    "W = weight[\"rpn.conv_cls.weight\"]\n",
    "b = weight[\"rpn.conv_cls.bias\"] \n",
    "\n",
    "weight[\"rpn.conv_cls.weight\"] = W * cW.reshape(-1,1,1,1)\n",
    "weight[\"rpn.conv_cls.bias\"] = b * cW + cb\n",
    "\n",
    "assert weight[\"rpn.conv_cls.weight\"].shape == W.shape\n",
    "assert weight[\"rpn.conv_cls.bias\"].shape == b.shape\n",
    "\n",
    "torch.save(weight, OUTPUT_DIR / f\"voxelnet-{GSTEP}.tckpt\")"
   ]
  },
  {
   "cell_type": "code",
   "execution_count": 17,
   "metadata": {
    "execution": {
     "iopub.execute_input": "2022-01-06T11:32:34.289841Z",
     "iopub.status.busy": "2022-01-06T11:32:34.289540Z",
     "iopub.status.idle": "2022-01-06T11:32:34.292467Z",
     "shell.execute_reply": "2022-01-06T11:32:34.292759Z"
    }
   },
   "outputs": [
    {
     "data": {
      "text/plain": [
       "126"
      ]
     },
     "execution_count": 1,
     "metadata": {},
     "output_type": "execute_result"
    }
   ],
   "source": [
    "(OUTPUT_DIR / \"checkpoints.json\").write_text(\"\"\"{\n",
    "\"latest_ckpt\": {\n",
    "  \"voxelnet\": \"voxelnet-%d.tckpt\"\n",
    "},\n",
    "\"all_ckpts\": {\n",
    "  \"voxelnet\": [\n",
    "    \"voxelnet-%d.tckpt\"\n",
    "  ]\n",
    "}\n",
    "}\"\"\" % (GSTEP, GSTEP))"
   ]
  },
  {
   "cell_type": "code",
   "execution_count": 18,
   "metadata": {
    "execution": {
     "iopub.execute_input": "2022-01-06T11:32:34.294071Z",
     "iopub.status.busy": "2022-01-06T11:32:34.293762Z",
     "iopub.status.idle": "2022-01-06T11:35:31.593959Z",
     "shell.execute_reply": "2022-01-06T11:35:31.592187Z"
    }
   },
   "outputs": [
    {
     "name": "stdout",
     "output_type": "stream",
     "text": [
      "/usr/local/lib/python3.9/dist-packages/numba/cuda/decorators.py:110: NumbaDeprecationWarning: Eager compilation of device functions is deprecated (this occurs when a signature is provided)\r\n",
      "  warn(NumbaDeprecationWarning(msg))\r\n",
      "Restoring parameters from /app/model/pointpillars-car-16/calibrated/voxelnet-296960.tckpt\r\n",
      "feature_map_size [1, 248, 216]\r\n",
      "remain number of infos: 3769\r\n",
      "Generate output labels...\r\n",
      "/app/second.pytorch/second/pytorch/models/voxelnet.py:485: UserWarning: indexing with dtype torch.uint8 is now deprecated, please use a dtype torch.bool instead. (Triggered internally at  ../aten/src/ATen/native/IndexingUtils.h:30.)\r\n",
      "  box_preds = box_preds[a_mask]\r\n",
      "/app/second.pytorch/second/pytorch/models/voxelnet.py:486: UserWarning: indexing with dtype torch.uint8 is now deprecated, please use a dtype torch.bool instead. (Triggered internally at  ../aten/src/ATen/native/IndexingUtils.h:30.)\r\n",
      "  cls_preds = cls_preds[a_mask]\r\n",
      "/app/second.pytorch/second/pytorch/models/voxelnet.py:491: UserWarning: indexing with dtype torch.uint8 is now deprecated, please use a dtype torch.bool instead. (Triggered internally at  ../aten/src/ATen/native/IndexingUtils.h:30.)\r\n",
      "  dir_preds = dir_preds[a_mask]\r\n",
      "[100.0%][===================>][34.21it/s][01:55>00:00]   \r\n",
      "generate label finished(32.60/s). start eval:\r\n",
      "avg example to torch time: 2.217 ms\r\n",
      "avg prep time: 8.436 ms\r\n",
      "avg voxel_feature_extractor time = 5.017 ms\r\n",
      "avg middle forward time = 0.721 ms\r\n",
      "avg rpn forward time = 12.146 ms\r\n",
      "avg predict time = 1.823 ms\r\n",
      "/usr/local/lib/python3.9/dist-packages/numba/cuda/compiler.py:865: NumbaPerformanceWarning: Grid size (21) < 2 * SM count (80) will likely result in GPU under utilization due to low occupancy.\r\n",
      "  warn(NumbaPerformanceWarning(msg))\r\n",
      "/usr/local/lib/python3.9/dist-packages/numba/core/typed_passes.py:331: NumbaPerformanceWarning: \r\n",
      "The keyword argument 'parallel=True' was specified but no transformation for parallel execution was possible.\r\n",
      "\r\n",
      "To find out why, try turning on parallel diagnostics, see https://numba.pydata.org/numba-doc/latest/user/parallel.html#diagnostics for help.\r\n",
      "\r\n",
      "File \"utils/eval.py\", line 129:\r\n",
      "@numba.jit(nopython=True, parallel=True)\r\n",
      "def box3d_overlap_kernel(boxes,\r\n",
      "^\r\n",
      "\r\n",
      "  warnings.warn(errors.NumbaPerformanceWarning(msg,\r\n",
      "/usr/local/lib/python3.9/dist-packages/numba/cuda/compiler.py:865: NumbaPerformanceWarning: Grid size (21) < 2 * SM count (80) will likely result in GPU under utilization due to low occupancy.\r\n",
      "  warn(NumbaPerformanceWarning(msg))\r\n",
      "feature: 100%|█████████████████████████████| 3769/3769 [00:26<00:00, 143.62it/s]\r\n",
      "Evaluation official\r\n",
      "Car AP(Average Precision)@0.70, 0.70, 0.70:\r\n",
      "bbox AP:90.66, 88.01, 83.67\r\n",
      "bev  AP:89.89, 84.56, 81.58\r\n",
      "3d   AP:83.15, 75.10, 70.65\r\n",
      "aos  AP:0.43, 1.30, 2.03\r\n",
      "Car AP(Average Precision)@0.70, 0.50, 0.50:\r\n",
      "bbox AP:90.66, 88.01, 83.67\r\n",
      "bev  AP:90.74, 89.23, 88.40\r\n",
      "3d   AP:90.73, 89.13, 88.11\r\n",
      "aos  AP:0.43, 1.30, 2.03\r\n",
      "\r\n",
      "Evaluation coco\r\n",
      "Car coco AP@0.50:0.05:0.95:\r\n",
      "bbox AP:71.26, 66.91, 64.91\r\n",
      "bev  AP:69.31, 65.40, 63.60\r\n",
      "3d   AP:58.82, 54.34, 51.87\r\n",
      "aos  AP:0.33, 0.93, 1.50\r\n",
      "\r\n"
     ]
    }
   ],
   "source": [
    "command = f\"docker run --rm -it --gpus all \\\n",
    "\t\t-v /hdd/kitti:/app/data \\\n",
    "\t\t-v $PWD/model:/app/model \\\n",
    "\t\tsecond.pytorch:latest \\\n",
    "\t\tpython ./pytorch/train.py evaluate \\\n",
    "\t\t\t--config_path=./configs/{CONF} \\\n",
    "\t\t\t--model_dir=/app/model/{MODEL}/calibrated \\\n",
    "\t\t\t--measure_time=True \\\n",
    "\t\t\t--batch_size=1\"\n",
    "!bash -c \"{command}\""
   ]
  },
  {
   "cell_type": "code",
   "execution_count": 19,
   "metadata": {
    "execution": {
     "iopub.execute_input": "2022-01-06T11:35:31.611534Z",
     "iopub.status.busy": "2022-01-06T11:35:31.609751Z",
     "iopub.status.idle": "2022-01-06T11:35:31.936568Z",
     "shell.execute_reply": "2022-01-06T11:35:31.936258Z"
    }
   },
   "outputs": [
    {
     "data": {
      "application/vnd.jupyter.widget-view+json": {
       "model_id": "ec24d30c3a6e4eaebafd29e23d277584",
       "version_major": 2,
       "version_minor": 0
      },
      "text/plain": [
       "  0%|          | 0/3769 [00:00<?, ?it/s]"
      ]
     },
     "metadata": {},
     "output_type": "display_data"
    },
    {
     "data": {
      "image/png": "[encoded data removed]",
      "text/plain": [
       "<Figure size 864x432 with 2 Axes>"
      ]
     },
     "metadata": {
      "needs_background": "light"
     },
     "output_type": "display_data"
    }
   ],
   "source": [
    "with (OUTPUT_DIR / f\"eval_results/step_{GSTEP}/result_kitti.pkl\").open(\"rb\") as f:\n",
    "    dets_calib = pickle.load(f)\n",
    "\n",
    "cy_true_li = []\n",
    "cy_pred_li = []\n",
    "\n",
    "for det in tqdm(dets_calib):\n",
    "    result = det[\"official/3d_0.70/2/bin\"]\n",
    "    mask = result != 0 # remove 'ignore' detections\n",
    "    cy_true_li.append(np.where(result[mask] == 1, 1, 0))\n",
    "    cy_pred_li.append(det[\"score\"][mask])\n",
    "\n",
    "cy_true = np.concatenate(cy_true_li)\n",
    "cy_pred = np.concatenate(cy_pred_li)\n",
    "\n",
    "show_calibration(cy_true, cy_pred)"
   ]
  },
  {
   "cell_type": "code",
   "execution_count": 20,
   "metadata": {
    "execution": {
     "iopub.execute_input": "2022-01-06T11:35:31.939627Z",
     "iopub.status.busy": "2022-01-06T11:35:31.939287Z",
     "iopub.status.idle": "2022-01-06T11:35:31.941169Z",
     "shell.execute_reply": "2022-01-06T11:35:31.940920Z"
    }
   },
   "outputs": [],
   "source": [
    "import re\n",
    "\n",
    "with (MODEL_DIR / f\"eval_results/step_{GSTEP}/result_evaluation.pkl\").open(\"rb\") as f:\n",
    "    result = pickle.load(f)\n",
    "\n",
    "with (MODEL_DIR / f\"calibrated/eval_results/step_{GSTEP}/result_evaluation.pkl\").open(\"rb\") as f:\n",
    "    result_calib = pickle.load(f)\n",
    "\n",
    "match = re.search(r\"AP:([\\d\\.]+), ([\\d\\.]+), ([\\d\\.]+)\", result[\"official\"].split(\"\\n\")[3])\n",
    "match_calib = re.search(r\"AP:([\\d\\.]+), ([\\d\\.]+), ([\\d\\.]+)\", result_calib[\"official\"].split(\"\\n\")[3])"
   ]
  },
  {
   "cell_type": "code",
   "execution_count": 21,
   "metadata": {
    "execution": {
     "iopub.execute_input": "2022-01-06T11:35:31.943864Z",
     "iopub.status.busy": "2022-01-06T11:35:31.943563Z",
     "iopub.status.idle": "2022-01-06T11:35:31.951743Z",
     "shell.execute_reply": "2022-01-06T11:35:31.951975Z"
    }
   },
   "outputs": [
    {
     "data": {
      "text/html": [
       "<div>\n",
       "<style scoped>\n",
       "    .dataframe tbody tr th:only-of-type {\n",
       "        vertical-align: middle;\n",
       "    }\n",
       "\n",
       "    .dataframe tbody tr th {\n",
       "        vertical-align: top;\n",
       "    }\n",
       "\n",
       "    .dataframe thead th {\n",
       "        text-align: right;\n",
       "    }\n",
       "</style>\n",
       "<table border=\"1\" class=\"dataframe\">\n",
       "  <thead>\n",
       "    <tr style=\"text-align: right;\">\n",
       "      <th></th>\n",
       "      <th>ECE</th>\n",
       "      <th>Easy 3DIoU@0.7</th>\n",
       "      <th>Moderate 3DIoU@0.7</th>\n",
       "      <th>Hard 3DIoU@0.7</th>\n",
       "    </tr>\n",
       "    <tr>\n",
       "      <th>method</th>\n",
       "      <th></th>\n",
       "      <th></th>\n",
       "      <th></th>\n",
       "      <th></th>\n",
       "    </tr>\n",
       "  </thead>\n",
       "  <tbody>\n",
       "    <tr>\n",
       "      <th>baseline</th>\n",
       "      <td>0.096762</td>\n",
       "      <td>85.46</td>\n",
       "      <td>76.20</td>\n",
       "      <td>69.98</td>\n",
       "    </tr>\n",
       "    <tr>\n",
       "      <th>Platt scaling</th>\n",
       "      <td>0.074233</td>\n",
       "      <td>83.15</td>\n",
       "      <td>75.10</td>\n",
       "      <td>70.65</td>\n",
       "    </tr>\n",
       "  </tbody>\n",
       "</table>\n",
       "</div>"
      ],
      "text/plain": [
       "                    ECE Easy 3DIoU@0.7 Moderate 3DIoU@0.7 Hard 3DIoU@0.7\n",
       "method                                                                  \n",
       "baseline       0.096762          85.46              76.20          69.98\n",
       "Platt scaling  0.074233          83.15              75.10          70.65"
      ]
     },
     "execution_count": 1,
     "metadata": {},
     "output_type": "execute_result"
    }
   ],
   "source": [
    "df = pd.DataFrame({\n",
    "    \"method\": [\"baseline\", \"Platt scaling\"],\n",
    "    \"ECE\": [expected_calibration_error(y_true, y_pred, 15), expected_calibration_error(cy_true, cy_pred, 15)],\n",
    "    \"Easy 3DIoU@0.7\": [match.group(1), match_calib.group(1)],\n",
    "    \"Moderate 3DIoU@0.7\": [match.group(2), match_calib.group(2)],\n",
    "    \"Hard 3DIoU@0.7\": [match.group(3), match_calib.group(3)],\n",
    "})\n",
    "df.set_index(\"method\")"
   ]
  },
  {
   "cell_type": "markdown",
   "metadata": {},
   "source": [
    "NMSの前をいじることになるのでECEを再現できない\n",
    "やはり完全な後処理として実装する必要あり"
   ]
  },
  {
   "cell_type": "markdown",
   "metadata": {},
   "source": [
    "# Calibration as Postprocessing"
   ]
  },
  {
   "cell_type": "code",
   "execution_count": 22,
   "metadata": {
    "execution": {
     "iopub.execute_input": "2022-01-06T11:35:31.955292Z",
     "iopub.status.busy": "2022-01-06T11:35:31.954992Z",
     "iopub.status.idle": "2022-01-06T11:35:32.940112Z",
     "shell.execute_reply": "2022-01-06T11:35:32.939793Z"
    }
   },
   "outputs": [],
   "source": [
    "with (MODEL_DIR / f\"eval_results/step_{GSTEP}/result.pkl\").open(\"rb\") as f:\n",
    "    detections = pickle.load(f)\n",
    "\n",
    "platt = LogisticRegression(random_state=0).fit(logit(y_pred).reshape(-1, 1), y_true)\n",
    "for det in detections:\n",
    "    det[\"scores\"] = torch.Tensor(logit(det[\"scores\"].cpu().numpy()) * platt.coef_.item() + platt.intercept_.item()).sigmoid().to(det[\"scores\"].device)\n",
    "\n",
    "OUTPUT_POST_DIR = MODEL_DIR / f\"calibrated_postprocess/eval_results/step_{GSTEP}\"\n",
    "OUTPUT_POST_DIR.mkdir(exist_ok=True, parents=True)\n",
    "\n",
    "with (OUTPUT_POST_DIR / \"result.pkl\").open(\"wb\") as f:\n",
    "    pickle.dump(detections, f)"
   ]
  },
  {
   "cell_type": "code",
   "execution_count": 23,
   "metadata": {
    "execution": {
     "iopub.execute_input": "2022-01-06T11:35:32.963097Z",
     "iopub.status.busy": "2022-01-06T11:35:32.962779Z",
     "iopub.status.idle": "2022-01-06T11:37:11.838652Z",
     "shell.execute_reply": "2022-01-06T11:37:11.837098Z"
    }
   },
   "outputs": [
    {
     "name": "stdout",
     "output_type": "stream",
     "text": [
      "/usr/local/lib/python3.9/dist-packages/numba/cuda/decorators.py:110: NumbaDeprecationWarning: Eager compilation of device functions is deprecated (this occurs when a signature is provided)\r\n",
      "  warn(NumbaDeprecationWarning(msg))\r\n",
      "feature_map_size [1, 248, 216]\r\n",
      "remain number of infos: 3769\r\n",
      "/usr/local/lib/python3.9/dist-packages/numba/cuda/compiler.py:865: NumbaPerformanceWarning: Grid size (42) < 2 * SM count (80) will likely result in GPU under utilization due to low occupancy.\r\n",
      "  warn(NumbaPerformanceWarning(msg))\r\n",
      "/usr/local/lib/python3.9/dist-packages/numba/core/typed_passes.py:331: NumbaPerformanceWarning: \r\n",
      "The keyword argument 'parallel=True' was specified but no transformation for parallel execution was possible.\r\n",
      "\r\n",
      "To find out why, try turning on parallel diagnostics, see https://numba.pydata.org/numba-doc/latest/user/parallel.html#diagnostics for help.\r\n",
      "\r\n",
      "File \"utils/eval.py\", line 129:\r\n",
      "@numba.jit(nopython=True, parallel=True)\r\n",
      "def box3d_overlap_kernel(boxes,\r\n",
      "^\r\n",
      "\r\n",
      "  warnings.warn(errors.NumbaPerformanceWarning(msg,\r\n",
      "/usr/local/lib/python3.9/dist-packages/numba/cuda/compiler.py:865: NumbaPerformanceWarning: Grid size (42) < 2 * SM count (80) will likely result in GPU under utilization due to low occupancy.\r\n",
      "  warn(NumbaPerformanceWarning(msg))\r\n",
      "feature: 100%|██████████████████████████████| 3769/3769 [00:53<00:00, 71.09it/s]\r\n",
      "Evaluation official\r\n",
      "Car AP(Average Precision)@0.70, 0.70, 0.70:\r\n",
      "bbox AP:90.74, 89.05, 87.42\r\n",
      "bev  AP:90.04, 87.32, 84.42\r\n",
      "3d   AP:85.46, 76.20, 69.98\r\n",
      "aos  AP:0.44, 1.32, 2.00\r\n",
      "Car AP(Average Precision)@0.70, 0.50, 0.50:\r\n",
      "bbox AP:90.74, 89.05, 87.42\r\n",
      "bev  AP:90.79, 90.05, 89.40\r\n",
      "3d   AP:90.79, 89.97, 89.21\r\n",
      "aos  AP:0.44, 1.32, 2.00\r\n",
      "\r\n",
      "Evaluation coco\r\n",
      "Car coco AP@0.50:0.05:0.95:\r\n",
      "bbox AP:71.48, 67.59, 65.84\r\n",
      "bev  AP:69.44, 66.05, 64.46\r\n",
      "3d   AP:59.11, 54.87, 52.51\r\n",
      "aos  AP:0.32, 0.96, 1.48\r\n",
      "\r\n"
     ]
    }
   ],
   "source": [
    "command = f\"docker run --rm -it --gpus all \\\n",
    "\t\t-v /hdd/kitti:/app/data \\\n",
    "\t\t-v $PWD/model:/app/model \\\n",
    "\t\tsecond.pytorch:latest \\\n",
    "\t\tpython ./pytorch/train.py evaluate_from_result \\\n",
    "\t\t\t--config_path=./configs/{CONF} \\\n",
    "\t\t\t--result_path_step=/app/model/{MODEL}/calibrated_postprocess/eval_results/step_{GSTEP} \\\n",
    "\t\t\t--measure_time=True \\\n",
    "\t\t\t--batch_size=1\"\n",
    "!bash -c \"{command}\""
   ]
  },
  {
   "cell_type": "code",
   "execution_count": 24,
   "metadata": {
    "execution": {
     "iopub.execute_input": "2022-01-06T11:37:11.863073Z",
     "iopub.status.busy": "2022-01-06T11:37:11.861290Z",
     "iopub.status.idle": "2022-01-06T11:37:12.280632Z",
     "shell.execute_reply": "2022-01-06T11:37:12.280327Z"
    }
   },
   "outputs": [
    {
     "data": {
      "application/vnd.jupyter.widget-view+json": {
       "model_id": "f8eafa1bd3e245b9b4f0631af7fc6f9d",
       "version_major": 2,
       "version_minor": 0
      },
      "text/plain": [
       "  0%|          | 0/3769 [00:00<?, ?it/s]"
      ]
     },
     "metadata": {},
     "output_type": "display_data"
    },
    {
     "data": {
      "image/png": "[encoded data removed]",
      "text/plain": [
       "<Figure size 864x432 with 2 Axes>"
      ]
     },
     "metadata": {
      "needs_background": "light"
     },
     "output_type": "display_data"
    },
    {
     "data": {
      "text/html": [
       "<div>\n",
       "<style scoped>\n",
       "    .dataframe tbody tr th:only-of-type {\n",
       "        vertical-align: middle;\n",
       "    }\n",
       "\n",
       "    .dataframe tbody tr th {\n",
       "        vertical-align: top;\n",
       "    }\n",
       "\n",
       "    .dataframe thead th {\n",
       "        text-align: right;\n",
       "    }\n",
       "</style>\n",
       "<table border=\"1\" class=\"dataframe\">\n",
       "  <thead>\n",
       "    <tr style=\"text-align: right;\">\n",
       "      <th></th>\n",
       "      <th>ECE</th>\n",
       "      <th>Easy 3DIoU@0.7</th>\n",
       "      <th>Moderate 3DIoU@0.7</th>\n",
       "      <th>Hard 3DIoU@0.7</th>\n",
       "    </tr>\n",
       "    <tr>\n",
       "      <th>method</th>\n",
       "      <th></th>\n",
       "      <th></th>\n",
       "      <th></th>\n",
       "      <th></th>\n",
       "    </tr>\n",
       "  </thead>\n",
       "  <tbody>\n",
       "    <tr>\n",
       "      <th>baseline</th>\n",
       "      <td>0.096762</td>\n",
       "      <td>85.46</td>\n",
       "      <td>76.20</td>\n",
       "      <td>69.98</td>\n",
       "    </tr>\n",
       "    <tr>\n",
       "      <th>Platt scaling</th>\n",
       "      <td>0.003734</td>\n",
       "      <td>85.46</td>\n",
       "      <td>76.20</td>\n",
       "      <td>69.98</td>\n",
       "    </tr>\n",
       "  </tbody>\n",
       "</table>\n",
       "</div>"
      ],
      "text/plain": [
       "                    ECE Easy 3DIoU@0.7 Moderate 3DIoU@0.7 Hard 3DIoU@0.7\n",
       "method                                                                  \n",
       "baseline       0.096762          85.46              76.20          69.98\n",
       "Platt scaling  0.003734          85.46              76.20          69.98"
      ]
     },
     "execution_count": 1,
     "metadata": {},
     "output_type": "execute_result"
    }
   ],
   "source": [
    "import re\n",
    "\n",
    "with (MODEL_DIR / f\"calibrated_postprocess/eval_results/step_{GSTEP}/result_kitti.pkl\").open(\"rb\") as f:\n",
    "    dets_calib = pickle.load(f)\n",
    "\n",
    "cy_true_li = []\n",
    "cy_pred_li = []\n",
    "\n",
    "for det in tqdm(dets_calib):\n",
    "    result = det[\"official/3d_0.70/2/bin\"]\n",
    "    mask = result != 0 # remove 'ignore' detections\n",
    "    cy_true_li.append(np.where(result[mask] == 1, 1, 0))\n",
    "    cy_pred_li.append(det[\"score\"][mask])\n",
    "\n",
    "cy_true = np.concatenate(cy_true_li)\n",
    "cy_pred = np.concatenate(cy_pred_li)\n",
    "\n",
    "show_calibration(cy_true, cy_pred)\n",
    "\n",
    "with (MODEL_DIR / f\"eval_results/step_{GSTEP}/result_evaluation.pkl\").open(\"rb\") as f:\n",
    "    result = pickle.load(f)\n",
    "\n",
    "with (MODEL_DIR / f\"calibrated_postprocess/eval_results/step_{GSTEP}/result_evaluation.pkl\").open(\"rb\") as f:\n",
    "    result_calib = pickle.load(f)\n",
    "\n",
    "match = re.search(r\"AP:([\\d\\.]+), ([\\d\\.]+), ([\\d\\.]+)\", result[\"official\"].split(\"\\n\")[3])\n",
    "match_calib = re.search(r\"AP:([\\d\\.]+), ([\\d\\.]+), ([\\d\\.]+)\", result_calib[\"official\"].split(\"\\n\")[3])\n",
    "\n",
    "df = pd.DataFrame({\n",
    "    \"method\": [\"baseline\", \"Platt scaling\"],\n",
    "    \"ECE\": [expected_calibration_error(y_true, y_pred, 15), expected_calibration_error(cy_true, cy_pred, 15)],\n",
    "    \"Easy 3DIoU@0.7\": [match.group(1), match_calib.group(1)],\n",
    "    \"Moderate 3DIoU@0.7\": [match.group(2), match_calib.group(2)],\n",
    "    \"Hard 3DIoU@0.7\": [match.group(3), match_calib.group(3)],\n",
    "})\n",
    "df.set_index(\"method\")"
   ]
  },
  {
   "cell_type": "code",
   "execution_count": null,
   "metadata": {},
   "outputs": [],
   "source": []
  }
 ],
 "metadata": {
  "interpreter": {
   "hash": "a7c0658967702a44083e42a2d71639ee532b580d98613c186f203eefa600092a"
  },
  "kernelspec": {
   "display_name": "Python 3.7.10 64-bit ('master-thesis': conda)",
   "name": "python3"
  },
  "language_info": {
   "codemirror_mode": {
    "name": "ipython",
    "version": 3
   },
   "file_extension": ".py",
   "mimetype": "text/x-python",
   "name": "python",
   "nbconvert_exporter": "python",
   "pygments_lexer": "ipython3",
   "version": "3.7.10"
  },
  "widgets": {
   "application/vnd.jupyter.widget-state+json": {
    "state": {
     "03ab0ca653c3404a8ec464250cf33ee9": {
      "model_module": "@jupyter-widgets/base",
      "model_module_version": "1.2.0",
      "model_name": "LayoutModel",
      "state": {
       "_model_module": "@jupyter-widgets/base",
       "_model_module_version": "1.2.0",
       "_model_name": "LayoutModel",
       "_view_count": null,
       "_view_module": "@jupyter-widgets/base",
       "_view_module_version": "1.2.0",
       "_view_name": "LayoutView",
       "align_content": null,
       "align_items": null,
       "align_self": null,
       "border": null,
       "bottom": null,
       "display": null,
       "flex": null,
       "flex_flow": null,
       "grid_area": null,
       "grid_auto_columns": null,
       "grid_auto_flow": null,
       "grid_auto_rows": null,
       "grid_column": null,
       "grid_gap": null,
       "grid_row": null,
       "grid_template_areas": null,
       "grid_template_columns": null,
       "grid_template_rows": null,
       "height": null,
       "justify_content": null,
       "justify_items": null,
       "left": null,
       "margin": null,
       "max_height": null,
       "max_width": null,
       "min_height": null,
       "min_width": null,
       "object_fit": null,
       "object_position": null,
       "order": null,
       "overflow": null,
       "overflow_x": null,
       "overflow_y": null,
       "padding": null,
       "right": null,
       "top": null,
       "visibility": null,
       "width": null
      }
     },
     "11131b0788a3458eb353df1cfbab2622": {
      "model_module": "@jupyter-widgets/controls",
      "model_module_version": "1.5.0",
      "model_name": "DescriptionStyleModel",
      "state": {
       "_model_module": "@jupyter-widgets/controls",
       "_model_module_version": "1.5.0",
       "_model_name": "DescriptionStyleModel",
       "_view_count": null,
       "_view_module": "@jupyter-widgets/base",
       "_view_module_version": "1.2.0",
       "_view_name": "StyleView",
       "description_width": ""
      }
     },
     "1200783eebea43bfbaae14e60caa2b46": {
      "model_module": "@jupyter-widgets/base",
      "model_module_version": "1.2.0",
      "model_name": "LayoutModel",
      "state": {
       "_model_module": "@jupyter-widgets/base",
       "_model_module_version": "1.2.0",
       "_model_name": "LayoutModel",
       "_view_count": null,
       "_view_module": "@jupyter-widgets/base",
       "_view_module_version": "1.2.0",
       "_view_name": "LayoutView",
       "align_content": null,
       "align_items": null,
       "align_self": null,
       "border": null,
       "bottom": null,
       "display": null,
       "flex": null,
       "flex_flow": null,
       "grid_area": null,
       "grid_auto_columns": null,
       "grid_auto_flow": null,
       "grid_auto_rows": null,
       "grid_column": null,
       "grid_gap": null,
       "grid_row": null,
       "grid_template_areas": null,
       "grid_template_columns": null,
       "grid_template_rows": null,
       "height": null,
       "justify_content": null,
       "justify_items": null,
       "left": null,
       "margin": null,
       "max_height": null,
       "max_width": null,
       "min_height": null,
       "min_width": null,
       "object_fit": null,
       "object_position": null,
       "order": null,
       "overflow": null,
       "overflow_x": null,
       "overflow_y": null,
       "padding": null,
       "right": null,
       "top": null,
       "visibility": null,
       "width": null
      }
     },
     "3fbfbbdb66854a8596edab0ad1360bba": {
      "model_module": "@jupyter-widgets/base",
      "model_module_version": "1.2.0",
      "model_name": "LayoutModel",
      "state": {
       "_model_module": "@jupyter-widgets/base",
       "_model_module_version": "1.2.0",
       "_model_name": "LayoutModel",
       "_view_count": null,
       "_view_module": "@jupyter-widgets/base",
       "_view_module_version": "1.2.0",
       "_view_name": "LayoutView",
       "align_content": null,
       "align_items": null,
       "align_self": null,
       "border": null,
       "bottom": null,
       "display": null,
       "flex": null,
       "flex_flow": null,
       "grid_area": null,
       "grid_auto_columns": null,
       "grid_auto_flow": null,
       "grid_auto_rows": null,
       "grid_column": null,
       "grid_gap": null,
       "grid_row": null,
       "grid_template_areas": null,
       "grid_template_columns": null,
       "grid_template_rows": null,
       "height": null,
       "justify_content": null,
       "justify_items": null,
       "left": null,
       "margin": null,
       "max_height": null,
       "max_width": null,
       "min_height": null,
       "min_width": null,
       "object_fit": null,
       "object_position": null,
       "order": null,
       "overflow": null,
       "overflow_x": null,
       "overflow_y": null,
       "padding": null,
       "right": null,
       "top": null,
       "visibility": null,
       "width": null
      }
     },
     "3fe991e14d8547cbbfbb30286e7caa07": {
      "model_module": "@jupyter-widgets/controls",
      "model_module_version": "1.5.0",
      "model_name": "FloatProgressModel",
      "state": {
       "_dom_classes": [],
       "_model_module": "@jupyter-widgets/controls",
       "_model_module_version": "1.5.0",
       "_model_name": "FloatProgressModel",
       "_view_count": null,
       "_view_module": "@jupyter-widgets/controls",
       "_view_module_version": "1.5.0",
       "_view_name": "ProgressView",
       "bar_style": "success",
       "description": "",
       "description_tooltip": null,
       "layout": "IPY_MODEL_45a05c1043e44568b35122b78190a484",
       "max": 3769.0,
       "min": 0.0,
       "orientation": "horizontal",
       "style": "IPY_MODEL_e6d6cd98ef5245c79310219e818fa406",
       "value": 3769.0
      }
     },
     "4071b2480c6342d0974c3a3434739202": {
      "model_module": "@jupyter-widgets/base",
      "model_module_version": "1.2.0",
      "model_name": "LayoutModel",
      "state": {
       "_model_module": "@jupyter-widgets/base",
       "_model_module_version": "1.2.0",
       "_model_name": "LayoutModel",
       "_view_count": null,
       "_view_module": "@jupyter-widgets/base",
       "_view_module_version": "1.2.0",
       "_view_name": "LayoutView",
       "align_content": null,
       "align_items": null,
       "align_self": null,
       "border": null,
       "bottom": null,
       "display": null,
       "flex": null,
       "flex_flow": null,
       "grid_area": null,
       "grid_auto_columns": null,
       "grid_auto_flow": null,
       "grid_auto_rows": null,
       "grid_column": null,
       "grid_gap": null,
       "grid_row": null,
       "grid_template_areas": null,
       "grid_template_columns": null,
       "grid_template_rows": null,
       "height": null,
       "justify_content": null,
       "justify_items": null,
       "left": null,
       "margin": null,
       "max_height": null,
       "max_width": null,
       "min_height": null,
       "min_width": null,
       "object_fit": null,
       "object_position": null,
       "order": null,
       "overflow": null,
       "overflow_x": null,
       "overflow_y": null,
       "padding": null,
       "right": null,
       "top": null,
       "visibility": null,
       "width": null
      }
     },
     "45a05c1043e44568b35122b78190a484": {
      "model_module": "@jupyter-widgets/base",
      "model_module_version": "1.2.0",
      "model_name": "LayoutModel",
      "state": {
       "_model_module": "@jupyter-widgets/base",
       "_model_module_version": "1.2.0",
       "_model_name": "LayoutModel",
       "_view_count": null,
       "_view_module": "@jupyter-widgets/base",
       "_view_module_version": "1.2.0",
       "_view_name": "LayoutView",
       "align_content": null,
       "align_items": null,
       "align_self": null,
       "border": null,
       "bottom": null,
       "display": null,
       "flex": null,
       "flex_flow": null,
       "grid_area": null,
       "grid_auto_columns": null,
       "grid_auto_flow": null,
       "grid_auto_rows": null,
       "grid_column": null,
       "grid_gap": null,
       "grid_row": null,
       "grid_template_areas": null,
       "grid_template_columns": null,
       "grid_template_rows": null,
       "height": null,
       "justify_content": null,
       "justify_items": null,
       "left": null,
       "margin": null,
       "max_height": null,
       "max_width": null,
       "min_height": null,
       "min_width": null,
       "object_fit": null,
       "object_position": null,
       "order": null,
       "overflow": null,
       "overflow_x": null,
       "overflow_y": null,
       "padding": null,
       "right": null,
       "top": null,
       "visibility": null,
       "width": null
      }
     },
     "467ad159e8cc4a4b8c5b810c5731379f": {
      "model_module": "@jupyter-widgets/base",
      "model_module_version": "1.2.0",
      "model_name": "LayoutModel",
      "state": {
       "_model_module": "@jupyter-widgets/base",
       "_model_module_version": "1.2.0",
       "_model_name": "LayoutModel",
       "_view_count": null,
       "_view_module": "@jupyter-widgets/base",
       "_view_module_version": "1.2.0",
       "_view_name": "LayoutView",
       "align_content": null,
       "align_items": null,
       "align_self": null,
       "border": null,
       "bottom": null,
       "display": null,
       "flex": null,
       "flex_flow": null,
       "grid_area": null,
       "grid_auto_columns": null,
       "grid_auto_flow": null,
       "grid_auto_rows": null,
       "grid_column": null,
       "grid_gap": null,
       "grid_row": null,
       "grid_template_areas": null,
       "grid_template_columns": null,
       "grid_template_rows": null,
       "height": null,
       "justify_content": null,
       "justify_items": null,
       "left": null,
       "margin": null,
       "max_height": null,
       "max_width": null,
       "min_height": null,
       "min_width": null,
       "object_fit": null,
       "object_position": null,
       "order": null,
       "overflow": null,
       "overflow_x": null,
       "overflow_y": null,
       "padding": null,
       "right": null,
       "top": null,
       "visibility": null,
       "width": null
      }
     },
     "4c91337e3b5248c1b8a0401024e873dd": {
      "model_module": "@jupyter-widgets/controls",
      "model_module_version": "1.5.0",
      "model_name": "DescriptionStyleModel",
      "state": {
       "_model_module": "@jupyter-widgets/controls",
       "_model_module_version": "1.5.0",
       "_model_name": "DescriptionStyleModel",
       "_view_count": null,
       "_view_module": "@jupyter-widgets/base",
       "_view_module_version": "1.2.0",
       "_view_name": "StyleView",
       "description_width": ""
      }
     },
     "5feaef8cfc804dc9b401b1981a3a41ca": {
      "model_module": "@jupyter-widgets/controls",
      "model_module_version": "1.5.0",
      "model_name": "ProgressStyleModel",
      "state": {
       "_model_module": "@jupyter-widgets/controls",
       "_model_module_version": "1.5.0",
       "_model_name": "ProgressStyleModel",
       "_view_count": null,
       "_view_module": "@jupyter-widgets/base",
       "_view_module_version": "1.2.0",
       "_view_name": "StyleView",
       "bar_color": null,
       "description_width": ""
      }
     },
     "6b09924e77bd4dc2834ff2f5b9e2bfb3": {
      "model_module": "@jupyter-widgets/controls",
      "model_module_version": "1.5.0",
      "model_name": "HBoxModel",
      "state": {
       "_dom_classes": [],
       "_model_module": "@jupyter-widgets/controls",
       "_model_module_version": "1.5.0",
       "_model_name": "HBoxModel",
       "_view_count": null,
       "_view_module": "@jupyter-widgets/controls",
       "_view_module_version": "1.5.0",
       "_view_name": "HBoxView",
       "box_style": "",
       "children": [
        "IPY_MODEL_acbfc4d0fa1045bbb0d34fd58292aa41",
        "IPY_MODEL_7de50006899048e5913c4cabdb3a1fac",
        "IPY_MODEL_beeac8498774417dbc6f63bdc9a21042"
       ],
       "layout": "IPY_MODEL_d36009a53ffd4702be589dbea0a0a1f6"
      }
     },
     "6bdcb2e1943e4efebff0d555781fc911": {
      "model_module": "@jupyter-widgets/controls",
      "model_module_version": "1.5.0",
      "model_name": "DescriptionStyleModel",
      "state": {
       "_model_module": "@jupyter-widgets/controls",
       "_model_module_version": "1.5.0",
       "_model_name": "DescriptionStyleModel",
       "_view_count": null,
       "_view_module": "@jupyter-widgets/base",
       "_view_module_version": "1.2.0",
       "_view_name": "StyleView",
       "description_width": ""
      }
     },
     "6f78cf0e641a42608fa59b96a1d8ab97": {
      "model_module": "@jupyter-widgets/controls",
      "model_module_version": "1.5.0",
      "model_name": "DescriptionStyleModel",
      "state": {
       "_model_module": "@jupyter-widgets/controls",
       "_model_module_version": "1.5.0",
       "_model_name": "DescriptionStyleModel",
       "_view_count": null,
       "_view_module": "@jupyter-widgets/base",
       "_view_module_version": "1.2.0",
       "_view_name": "StyleView",
       "description_width": ""
      }
     },
     "7de50006899048e5913c4cabdb3a1fac": {
      "model_module": "@jupyter-widgets/controls",
      "model_module_version": "1.5.0",
      "model_name": "FloatProgressModel",
      "state": {
       "_dom_classes": [],
       "_model_module": "@jupyter-widgets/controls",
       "_model_module_version": "1.5.0",
       "_model_name": "FloatProgressModel",
       "_view_count": null,
       "_view_module": "@jupyter-widgets/controls",
       "_view_module_version": "1.5.0",
       "_view_name": "ProgressView",
       "bar_style": "success",
       "description": "",
       "description_tooltip": null,
       "layout": "IPY_MODEL_4071b2480c6342d0974c3a3434739202",
       "max": 3769.0,
       "min": 0.0,
       "orientation": "horizontal",
       "style": "IPY_MODEL_7e1f8a9fc0d54916b78101d36b9fc4a3",
       "value": 3769.0
      }
     },
     "7e1f8a9fc0d54916b78101d36b9fc4a3": {
      "model_module": "@jupyter-widgets/controls",
      "model_module_version": "1.5.0",
      "model_name": "ProgressStyleModel",
      "state": {
       "_model_module": "@jupyter-widgets/controls",
       "_model_module_version": "1.5.0",
       "_model_name": "ProgressStyleModel",
       "_view_count": null,
       "_view_module": "@jupyter-widgets/base",
       "_view_module_version": "1.2.0",
       "_view_name": "StyleView",
       "bar_color": null,
       "description_width": ""
      }
     },
     "969034968981442584b5782e3d1d9432": {
      "model_module": "@jupyter-widgets/controls",
      "model_module_version": "1.5.0",
      "model_name": "HTMLModel",
      "state": {
       "_dom_classes": [],
       "_model_module": "@jupyter-widgets/controls",
       "_model_module_version": "1.5.0",
       "_model_name": "HTMLModel",
       "_view_count": null,
       "_view_module": "@jupyter-widgets/controls",
       "_view_module_version": "1.5.0",
       "_view_name": "HTMLView",
       "description": "",
       "description_tooltip": null,
       "layout": "IPY_MODEL_03ab0ca653c3404a8ec464250cf33ee9",
       "placeholder": "​",
       "style": "IPY_MODEL_11131b0788a3458eb353df1cfbab2622",
       "value": "100%"
      }
     },
     "a933d4d6fd0e4853be77971c508b8a70": {
      "model_module": "@jupyter-widgets/controls",
      "model_module_version": "1.5.0",
      "model_name": "HTMLModel",
      "state": {
       "_dom_classes": [],
       "_model_module": "@jupyter-widgets/controls",
       "_model_module_version": "1.5.0",
       "_model_name": "HTMLModel",
       "_view_count": null,
       "_view_module": "@jupyter-widgets/controls",
       "_view_module_version": "1.5.0",
       "_view_name": "HTMLView",
       "description": "",
       "description_tooltip": null,
       "layout": "IPY_MODEL_1200783eebea43bfbaae14e60caa2b46",
       "placeholder": "​",
       "style": "IPY_MODEL_6bdcb2e1943e4efebff0d555781fc911",
       "value": " 3769/3769 [00:00&lt;00:00, 113796.96it/s]"
      }
     },
     "abbaa790db624b4bb4ef65920a44277a": {
      "model_module": "@jupyter-widgets/controls",
      "model_module_version": "1.5.0",
      "model_name": "HTMLModel",
      "state": {
       "_dom_classes": [],
       "_model_module": "@jupyter-widgets/controls",
       "_model_module_version": "1.5.0",
       "_model_name": "HTMLModel",
       "_view_count": null,
       "_view_module": "@jupyter-widgets/controls",
       "_view_module_version": "1.5.0",
       "_view_name": "HTMLView",
       "description": "",
       "description_tooltip": null,
       "layout": "IPY_MODEL_3fbfbbdb66854a8596edab0ad1360bba",
       "placeholder": "​",
       "style": "IPY_MODEL_b992cd983f9047608f4ffa4af80dc7fa",
       "value": " 3769/3769 [00:00&lt;00:00, 118006.09it/s]"
      }
     },
     "acbfc4d0fa1045bbb0d34fd58292aa41": {
      "model_module": "@jupyter-widgets/controls",
      "model_module_version": "1.5.0",
      "model_name": "HTMLModel",
      "state": {
       "_dom_classes": [],
       "_model_module": "@jupyter-widgets/controls",
       "_model_module_version": "1.5.0",
       "_model_name": "HTMLModel",
       "_view_count": null,
       "_view_module": "@jupyter-widgets/controls",
       "_view_module_version": "1.5.0",
       "_view_name": "HTMLView",
       "description": "",
       "description_tooltip": null,
       "layout": "IPY_MODEL_467ad159e8cc4a4b8c5b810c5731379f",
       "placeholder": "​",
       "style": "IPY_MODEL_4c91337e3b5248c1b8a0401024e873dd",
       "value": "100%"
      }
     },
     "b858844fdf5d43a5a8b96feaee667152": {
      "model_module": "@jupyter-widgets/base",
      "model_module_version": "1.2.0",
      "model_name": "LayoutModel",
      "state": {
       "_model_module": "@jupyter-widgets/base",
       "_model_module_version": "1.2.0",
       "_model_name": "LayoutModel",
       "_view_count": null,
       "_view_module": "@jupyter-widgets/base",
       "_view_module_version": "1.2.0",
       "_view_name": "LayoutView",
       "align_content": null,
       "align_items": null,
       "align_self": null,
       "border": null,
       "bottom": null,
       "display": null,
       "flex": null,
       "flex_flow": null,
       "grid_area": null,
       "grid_auto_columns": null,
       "grid_auto_flow": null,
       "grid_auto_rows": null,
       "grid_column": null,
       "grid_gap": null,
       "grid_row": null,
       "grid_template_areas": null,
       "grid_template_columns": null,
       "grid_template_rows": null,
       "height": null,
       "justify_content": null,
       "justify_items": null,
       "left": null,
       "margin": null,
       "max_height": null,
       "max_width": null,
       "min_height": null,
       "min_width": null,
       "object_fit": null,
       "object_position": null,
       "order": null,
       "overflow": null,
       "overflow_x": null,
       "overflow_y": null,
       "padding": null,
       "right": null,
       "top": null,
       "visibility": null,
       "width": null
      }
     },
     "b992cd983f9047608f4ffa4af80dc7fa": {
      "model_module": "@jupyter-widgets/controls",
      "model_module_version": "1.5.0",
      "model_name": "DescriptionStyleModel",
      "state": {
       "_model_module": "@jupyter-widgets/controls",
       "_model_module_version": "1.5.0",
       "_model_name": "DescriptionStyleModel",
       "_view_count": null,
       "_view_module": "@jupyter-widgets/base",
       "_view_module_version": "1.2.0",
       "_view_name": "StyleView",
       "description_width": ""
      }
     },
     "beeac8498774417dbc6f63bdc9a21042": {
      "model_module": "@jupyter-widgets/controls",
      "model_module_version": "1.5.0",
      "model_name": "HTMLModel",
      "state": {
       "_dom_classes": [],
       "_model_module": "@jupyter-widgets/controls",
       "_model_module_version": "1.5.0",
       "_model_name": "HTMLModel",
       "_view_count": null,
       "_view_module": "@jupyter-widgets/controls",
       "_view_module_version": "1.5.0",
       "_view_name": "HTMLView",
       "description": "",
       "description_tooltip": null,
       "layout": "IPY_MODEL_f96ed07d372e453ba14463e5c8dc00f1",
       "placeholder": "​",
       "style": "IPY_MODEL_d27b7f26899c429a90ac77933c11396c",
       "value": " 3769/3769 [00:00&lt;00:00, 113143.75it/s]"
      }
     },
     "c504197914e443bd9313c074ef1acc6c": {
      "model_module": "@jupyter-widgets/base",
      "model_module_version": "1.2.0",
      "model_name": "LayoutModel",
      "state": {
       "_model_module": "@jupyter-widgets/base",
       "_model_module_version": "1.2.0",
       "_model_name": "LayoutModel",
       "_view_count": null,
       "_view_module": "@jupyter-widgets/base",
       "_view_module_version": "1.2.0",
       "_view_name": "LayoutView",
       "align_content": null,
       "align_items": null,
       "align_self": null,
       "border": null,
       "bottom": null,
       "display": null,
       "flex": null,
       "flex_flow": null,
       "grid_area": null,
       "grid_auto_columns": null,
       "grid_auto_flow": null,
       "grid_auto_rows": null,
       "grid_column": null,
       "grid_gap": null,
       "grid_row": null,
       "grid_template_areas": null,
       "grid_template_columns": null,
       "grid_template_rows": null,
       "height": null,
       "justify_content": null,
       "justify_items": null,
       "left": null,
       "margin": null,
       "max_height": null,
       "max_width": null,
       "min_height": null,
       "min_width": null,
       "object_fit": null,
       "object_position": null,
       "order": null,
       "overflow": null,
       "overflow_x": null,
       "overflow_y": null,
       "padding": null,
       "right": null,
       "top": null,
       "visibility": null,
       "width": null
      }
     },
     "d27b7f26899c429a90ac77933c11396c": {
      "model_module": "@jupyter-widgets/controls",
      "model_module_version": "1.5.0",
      "model_name": "DescriptionStyleModel",
      "state": {
       "_model_module": "@jupyter-widgets/controls",
       "_model_module_version": "1.5.0",
       "_model_name": "DescriptionStyleModel",
       "_view_count": null,
       "_view_module": "@jupyter-widgets/base",
       "_view_module_version": "1.2.0",
       "_view_name": "StyleView",
       "description_width": ""
      }
     },
     "d36009a53ffd4702be589dbea0a0a1f6": {
      "model_module": "@jupyter-widgets/base",
      "model_module_version": "1.2.0",
      "model_name": "LayoutModel",
      "state": {
       "_model_module": "@jupyter-widgets/base",
       "_model_module_version": "1.2.0",
       "_model_name": "LayoutModel",
       "_view_count": null,
       "_view_module": "@jupyter-widgets/base",
       "_view_module_version": "1.2.0",
       "_view_name": "LayoutView",
       "align_content": null,
       "align_items": null,
       "align_self": null,
       "border": null,
       "bottom": null,
       "display": null,
       "flex": null,
       "flex_flow": null,
       "grid_area": null,
       "grid_auto_columns": null,
       "grid_auto_flow": null,
       "grid_auto_rows": null,
       "grid_column": null,
       "grid_gap": null,
       "grid_row": null,
       "grid_template_areas": null,
       "grid_template_columns": null,
       "grid_template_rows": null,
       "height": null,
       "justify_content": null,
       "justify_items": null,
       "left": null,
       "margin": null,
       "max_height": null,
       "max_width": null,
       "min_height": null,
       "min_width": null,
       "object_fit": null,
       "object_position": null,
       "order": null,
       "overflow": null,
       "overflow_x": null,
       "overflow_y": null,
       "padding": null,
       "right": null,
       "top": null,
       "visibility": null,
       "width": null
      }
     },
     "d59141119636411b83ef870fe521edeb": {
      "model_module": "@jupyter-widgets/controls",
      "model_module_version": "1.5.0",
      "model_name": "FloatProgressModel",
      "state": {
       "_dom_classes": [],
       "_model_module": "@jupyter-widgets/controls",
       "_model_module_version": "1.5.0",
       "_model_name": "FloatProgressModel",
       "_view_count": null,
       "_view_module": "@jupyter-widgets/controls",
       "_view_module_version": "1.5.0",
       "_view_name": "ProgressView",
       "bar_style": "success",
       "description": "",
       "description_tooltip": null,
       "layout": "IPY_MODEL_c504197914e443bd9313c074ef1acc6c",
       "max": 3769.0,
       "min": 0.0,
       "orientation": "horizontal",
       "style": "IPY_MODEL_5feaef8cfc804dc9b401b1981a3a41ca",
       "value": 3769.0
      }
     },
     "d6c619e8c0fd464c9eae73ea7d821aed": {
      "model_module": "@jupyter-widgets/controls",
      "model_module_version": "1.5.0",
      "model_name": "HTMLModel",
      "state": {
       "_dom_classes": [],
       "_model_module": "@jupyter-widgets/controls",
       "_model_module_version": "1.5.0",
       "_model_name": "HTMLModel",
       "_view_count": null,
       "_view_module": "@jupyter-widgets/controls",
       "_view_module_version": "1.5.0",
       "_view_name": "HTMLView",
       "description": "",
       "description_tooltip": null,
       "layout": "IPY_MODEL_e717bd7a408848ddad5dd1f50c177245",
       "placeholder": "​",
       "style": "IPY_MODEL_6f78cf0e641a42608fa59b96a1d8ab97",
       "value": "100%"
      }
     },
     "e0daaf74dec6428a97d01269b59a3738": {
      "model_module": "@jupyter-widgets/base",
      "model_module_version": "1.2.0",
      "model_name": "LayoutModel",
      "state": {
       "_model_module": "@jupyter-widgets/base",
       "_model_module_version": "1.2.0",
       "_model_name": "LayoutModel",
       "_view_count": null,
       "_view_module": "@jupyter-widgets/base",
       "_view_module_version": "1.2.0",
       "_view_name": "LayoutView",
       "align_content": null,
       "align_items": null,
       "align_self": null,
       "border": null,
       "bottom": null,
       "display": null,
       "flex": null,
       "flex_flow": null,
       "grid_area": null,
       "grid_auto_columns": null,
       "grid_auto_flow": null,
       "grid_auto_rows": null,
       "grid_column": null,
       "grid_gap": null,
       "grid_row": null,
       "grid_template_areas": null,
       "grid_template_columns": null,
       "grid_template_rows": null,
       "height": null,
       "justify_content": null,
       "justify_items": null,
       "left": null,
       "margin": null,
       "max_height": null,
       "max_width": null,
       "min_height": null,
       "min_width": null,
       "object_fit": null,
       "object_position": null,
       "order": null,
       "overflow": null,
       "overflow_x": null,
       "overflow_y": null,
       "padding": null,
       "right": null,
       "top": null,
       "visibility": null,
       "width": null
      }
     },
     "e6d6cd98ef5245c79310219e818fa406": {
      "model_module": "@jupyter-widgets/controls",
      "model_module_version": "1.5.0",
      "model_name": "ProgressStyleModel",
      "state": {
       "_model_module": "@jupyter-widgets/controls",
       "_model_module_version": "1.5.0",
       "_model_name": "ProgressStyleModel",
       "_view_count": null,
       "_view_module": "@jupyter-widgets/base",
       "_view_module_version": "1.2.0",
       "_view_name": "StyleView",
       "bar_color": null,
       "description_width": ""
      }
     },
     "e717bd7a408848ddad5dd1f50c177245": {
      "model_module": "@jupyter-widgets/base",
      "model_module_version": "1.2.0",
      "model_name": "LayoutModel",
      "state": {
       "_model_module": "@jupyter-widgets/base",
       "_model_module_version": "1.2.0",
       "_model_name": "LayoutModel",
       "_view_count": null,
       "_view_module": "@jupyter-widgets/base",
       "_view_module_version": "1.2.0",
       "_view_name": "LayoutView",
       "align_content": null,
       "align_items": null,
       "align_self": null,
       "border": null,
       "bottom": null,
       "display": null,
       "flex": null,
       "flex_flow": null,
       "grid_area": null,
       "grid_auto_columns": null,
       "grid_auto_flow": null,
       "grid_auto_rows": null,
       "grid_column": null,
       "grid_gap": null,
       "grid_row": null,
       "grid_template_areas": null,
       "grid_template_columns": null,
       "grid_template_rows": null,
       "height": null,
       "justify_content": null,
       "justify_items": null,
       "left": null,
       "margin": null,
       "max_height": null,
       "max_width": null,
       "min_height": null,
       "min_width": null,
       "object_fit": null,
       "object_position": null,
       "order": null,
       "overflow": null,
       "overflow_x": null,
       "overflow_y": null,
       "padding": null,
       "right": null,
       "top": null,
       "visibility": null,
       "width": null
      }
     },
     "ec24d30c3a6e4eaebafd29e23d277584": {
      "model_module": "@jupyter-widgets/controls",
      "model_module_version": "1.5.0",
      "model_name": "HBoxModel",
      "state": {
       "_dom_classes": [],
       "_model_module": "@jupyter-widgets/controls",
       "_model_module_version": "1.5.0",
       "_model_name": "HBoxModel",
       "_view_count": null,
       "_view_module": "@jupyter-widgets/controls",
       "_view_module_version": "1.5.0",
       "_view_name": "HBoxView",
       "box_style": "",
       "children": [
        "IPY_MODEL_969034968981442584b5782e3d1d9432",
        "IPY_MODEL_3fe991e14d8547cbbfbb30286e7caa07",
        "IPY_MODEL_abbaa790db624b4bb4ef65920a44277a"
       ],
       "layout": "IPY_MODEL_b858844fdf5d43a5a8b96feaee667152"
      }
     },
     "f8eafa1bd3e245b9b4f0631af7fc6f9d": {
      "model_module": "@jupyter-widgets/controls",
      "model_module_version": "1.5.0",
      "model_name": "HBoxModel",
      "state": {
       "_dom_classes": [],
       "_model_module": "@jupyter-widgets/controls",
       "_model_module_version": "1.5.0",
       "_model_name": "HBoxModel",
       "_view_count": null,
       "_view_module": "@jupyter-widgets/controls",
       "_view_module_version": "1.5.0",
       "_view_name": "HBoxView",
       "box_style": "",
       "children": [
        "IPY_MODEL_d6c619e8c0fd464c9eae73ea7d821aed",
        "IPY_MODEL_d59141119636411b83ef870fe521edeb",
        "IPY_MODEL_a933d4d6fd0e4853be77971c508b8a70"
       ],
       "layout": "IPY_MODEL_e0daaf74dec6428a97d01269b59a3738"
      }
     },
     "f96ed07d372e453ba14463e5c8dc00f1": {
      "model_module": "@jupyter-widgets/base",
      "model_module_version": "1.2.0",
      "model_name": "LayoutModel",
      "state": {
       "_model_module": "@jupyter-widgets/base",
       "_model_module_version": "1.2.0",
       "_model_name": "LayoutModel",
       "_view_count": null,
       "_view_module": "@jupyter-widgets/base",
       "_view_module_version": "1.2.0",
       "_view_name": "LayoutView",
       "align_content": null,
       "align_items": null,
       "align_self": null,
       "border": null,
       "bottom": null,
       "display": null,
       "flex": null,
       "flex_flow": null,
       "grid_area": null,
       "grid_auto_columns": null,
       "grid_auto_flow": null,
       "grid_auto_rows": null,
       "grid_column": null,
       "grid_gap": null,
       "grid_row": null,
       "grid_template_areas": null,
       "grid_template_columns": null,
       "grid_template_rows": null,
       "height": null,
       "justify_content": null,
       "justify_items": null,
       "left": null,
       "margin": null,
       "max_height": null,
       "max_width": null,
       "min_height": null,
       "min_width": null,
       "object_fit": null,
       "object_position": null,
       "order": null,
       "overflow": null,
       "overflow_x": null,
       "overflow_y": null,
       "padding": null,
       "right": null,
       "top": null,
       "visibility": null,
       "width": null
      }
     }
    },
    "version_major": 2,
    "version_minor": 0
   }
  }
 },
 "nbformat": 4,
 "nbformat_minor": 2
}
